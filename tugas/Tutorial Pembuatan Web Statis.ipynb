{
 "cells": [
  {
   "cell_type": "markdown",
   "metadata": {},
   "source": [
    "# Tutorial Pembuatan Web Statis\n",
    "\n",
    "### Video Tutorial pembuatan Web Statis dengan template Jupyter-Book\n",
    "\n",
    "1. Buat nama repository, lalu pilih public agar nantinya bisa dilihat oleh banyak orang.\n",
    "\n",
    "2. klik Readme pada Repositories, lalu pilih branch yang akan digunakan seperti \"main\"\n",
    "\n",
    "3. Buat File baru bernama “.nojekyll” (gunanya agar membari github agar tidak membangun html)\n",
    "\n",
    "4. Masuk Ke Codespace\n",
    "\n",
    "5. Ketik di Terimal “pip install jupyter-book”\n",
    "\n",
    "6. Buat Folder baru menggunakan command “Jupyter-book Create (nama folder)”\n",
    "\n",
    "7. Edit bagian yang ingin di edit\n",
    "\n",
    "8. Build Foldernya menggunakan command “jupyter-book build (nama folder)”\n",
    "\n",
    "9. pindah Folder HTML nya di luar folder tugas\n",
    "\n",
    "10. Commit & Sync (jangan lupa diberi pesan pada commitnya)\n",
    "\n",
    "11. Pindah ke Repository dan ke Setting\n",
    "\n",
    "12. Pilih Bagian Pages\n",
    "\n",
    "13. Ganti Branch ke Branch yg kita gunakan tadi\n",
    "\n",
    "14. Tunggu Proses Deploy nya selesai\n",
    "\n",
    "### Lebih jelasnya bisa lihat video tutorial dibawah ini\n",
    "\n",
    "[Klik link berikut](https://youtu.be/oRqykMAQrQA?si=nPsNdIRbdbI6LGWi)\n",
    "\n"
   ]
  }
 ],
 "metadata": {
  "language_info": {
   "name": "python"
  }
 },
 "nbformat": 4,
 "nbformat_minor": 2
}
