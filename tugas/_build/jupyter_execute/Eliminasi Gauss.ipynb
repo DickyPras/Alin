{
 "cells": [
  {
   "cell_type": "markdown",
   "metadata": {},
   "source": [
    "# Eliminasi Gauss"
   ]
  },
  {
   "cell_type": "markdown",
   "metadata": {},
   "source": [
    "Eliminasi gauss adalah metode untuk operasi nilai-nilai dalam matriks, untuk membuat matriks lebih sederhana lagi. Metode eliminasi gaus dikembangkan dari metode eliminasi, dengan cara menghilangkan atau mengurangi jumlah variabel, untuk mendapatkan nilai variabel bebas."
   ]
  },
  {
   "cell_type": "markdown",
   "metadata": {},
   "source": [
    "### Penggunaa Eliminasi Gauss\n",
    "\n",
    "Penggunaan Eliminasi Gauss yaitu mengubah persamaan linear menjadi bentuk matriks, kemudian diubah ke bentuk Eselon Baris melalui Operasi Baris Elementer. Setelah itu bentuk matriks diselesaikan dengan substitusi balik. Eliminasi Gauss ini berasal dari operasi matematika pada baris matriks yang dilanjutkan sampai tersisa satu variabel."
   ]
  },
  {
   "cell_type": "markdown",
   "metadata": {},
   "source": [
    "### RowSwap\n",
    "\n",
    "RowSwap adalah operasi dasar pada matriks yang melibatkan pertukaran dua baris. Dalam operasi ini, dua baris pada matriks ditukar posisinya. Operasi row swap sering digunakan dalam proses Eliminasi Gauss\n"
   ]
  },
  {
   "cell_type": "markdown",
   "metadata": {},
   "source": [
    "Contoh jika memiliki soal Matrix berikut"
   ]
  },
  {
   "cell_type": "code",
   "execution_count": 1,
   "metadata": {},
   "outputs": [
    {
     "name": "stdout",
     "output_type": "stream",
     "text": [
      "[[ 8  9  1 19]\n",
      " [ 1  2  3  9]\n",
      " [ 2  1  1  5]]\n"
     ]
    }
   ],
   "source": [
    "import numpy as np\n",
    "A=np.array([[8,9,1,19],\n",
    "            [1,2,3,9],\n",
    "            [2,1,1,5]])\n",
    "print(A)"
   ]
  },
  {
   "cell_type": "markdown",
   "metadata": {},
   "source": [
    "Lalu kita ingin menukar baris pertama dengan baris kedua, maka setelah operasi RowSwap, matriks akan menjadi:"
   ]
  },
  {
   "cell_type": "code",
   "execution_count": 2,
   "metadata": {},
   "outputs": [
    {
     "name": "stdout",
     "output_type": "stream",
     "text": [
      "Matriks awal:\n",
      "[[ 8  9  1 19]\n",
      " [ 1  2  3  9]\n",
      " [ 2  1  1  5]]\n",
      "\n",
      "Matriks setelah RowSwap:\n",
      "[[ 1.  2.  3.  9.]\n",
      " [ 8.  9.  1. 19.]\n",
      " [ 2.  1.  1.  5.]]\n"
     ]
    }
   ],
   "source": [
    "def RowSwap(A,k,l):\n",
    "# =============================================================================\n",
    "#     A adalah sebuah NumPy array.  RowSwap akan menghasilkan duplicate dari \n",
    "#     array dengan baris k dan l di tukar\n",
    "# =============================================================================\n",
    "    m = A.shape[0]  # m is number of rows in A\n",
    "    n = A.shape[1]  # n is number of columns in A\n",
    "\n",
    "    B = np.copy(A).astype('float64')\n",
    "\n",
    "    for j in range(n):\n",
    "        temp = B[k][j]\n",
    "        B[k][j] = B[l][j]\n",
    "        B[l][j] = temp\n",
    "\n",
    "    return B\n",
    "\n",
    "RSW=np.array([[8,9,1,19],\n",
    "              [1,2,3,9],\n",
    "              [2,1,1,5]])\n",
    "\n",
    "k = 0\n",
    "l = 1\n",
    "\n",
    "# Memanggil fungsi RowSwap dan menampilkan outputnya\n",
    "result = RowSwap(RSW, k, 1)\n",
    "print(\"Matriks awal:\")\n",
    "print(RSW)\n",
    "print(\"\\nMatriks setelah RowSwap:\")\n",
    "print(result)"
   ]
  },
  {
   "cell_type": "code",
   "execution_count": 3,
   "metadata": {},
   "outputs": [
    {
     "name": "stdout",
     "output_type": "stream",
     "text": [
      "[[ 1.  2.  3.  9.]\n",
      " [ 8.  9.  1. 19.]\n",
      " [ 2.  1.  1.  5.]]\n"
     ]
    }
   ],
   "source": [
    "A1= RowSwap(A,0,1)\n",
    "print(A1)"
   ]
  },
  {
   "cell_type": "markdown",
   "metadata": {},
   "source": [
    "### RowAdd\n",
    "\n",
    "RowAdd adalah operasi dasar pada matriks yang melibatkan penambahan hasil perkalian satu baris dengan suatu skalar (bilangan konstan) terhadap baris lainnya. Dalam operasi ini, setiap elemen pada suatu baris akan ditambahkan dengan hasil perkalian skalar tersebut terhadap elemen pada baris lain.\n",
    "\n",
    "Misalnya, jika kita memiliki matriks berikut:"
   ]
  },
  {
   "cell_type": "code",
   "execution_count": 4,
   "metadata": {},
   "outputs": [
    {
     "name": "stdout",
     "output_type": "stream",
     "text": [
      "[[ 8  9  1 20]\n",
      " [ 1  2 13  9]\n",
      " [ 2 11  3  5]]\n"
     ]
    }
   ],
   "source": [
    "RA=np.array([[8,9,1,20],\n",
    "             [1,2,13,9],\n",
    "             [2,11,3,5]])\n",
    "print(RA)"
   ]
  },
  {
   "cell_type": "markdown",
   "metadata": {},
   "source": [
    "Dan kita ingin menambahkan dua kali baris pertama ke baris kedua, maka setelah operasi row add, matriks akan menjadi:"
   ]
  },
  {
   "cell_type": "code",
   "execution_count": 5,
   "metadata": {},
   "outputs": [
    {
     "name": "stdout",
     "output_type": "stream",
     "text": [
      "Matriks awal:\n",
      "[[ 8  9  1 20]\n",
      " [ 1  2 13  9]\n",
      " [ 2 11  3  5]]\n",
      "\n",
      "Matriks setelah RowAdd:\n",
      "[[ 8.  9.  1. 20.]\n",
      " [17. 20. 15. 49.]\n",
      " [ 2. 11.  3.  5.]]\n"
     ]
    }
   ],
   "source": [
    "def RowAdd(A,k,l,scale):\n",
    "# =============================================================================\n",
    "#     A adalah sebuah NumPy array.  RowAddp akan menghasilkan duplicate dari \n",
    "#     array dengan baris k akan di kali dengan scalar bukan 0. lalu baris nilai\n",
    "#     baris l akan di tambah dengan nilai baris k yang sudah dikalikan  \n",
    "# =============================================================================\n",
    "    m = A.shape[0]  # m is number of rows in A\n",
    "    n = A.shape[1]  # n is number of columns in A\n",
    "\n",
    "    B = np.copy(A).astype('float64')\n",
    "\n",
    "    for j in range(n):\n",
    "        B[l][j] += B[k][j]*scale\n",
    "\n",
    "    return B\n",
    "\n",
    "RA=np.array([[8,9,1,20],\n",
    "             [1,2,13,9],\n",
    "             [2,11,3,5]])\n",
    "\n",
    "k = 0\n",
    "l = 1\n",
    "scale = 2\n",
    "\n",
    "# Memanggil fungsi RowAdd dan menampilkan outputnya\n",
    "result = RowAdd(RA, k, l, scale)\n",
    "print(\"Matriks awal:\")\n",
    "print(RA)\n",
    "print(\"\\nMatriks setelah RowAdd:\")\n",
    "print(result)"
   ]
  },
  {
   "cell_type": "markdown",
   "metadata": {},
   "source": [
    "Maka dari hasil berikut:"
   ]
  },
  {
   "cell_type": "markdown",
   "metadata": {},
   "source": [
    "\\begin{align*} 8x_1 + 9x_2 + x_3 = 19 \\\\\n",
    "\n",
    "x_1 + 2x_2 + 3x_3 = 9 \\\\\n",
    "\n",
    "2x_1 + x_2 + x_3 \\end{align*}"
   ]
  },
  {
   "cell_type": "markdown",
   "metadata": {},
   "source": [
    "Hasil setelah dibulatkan:\n",
    "\n",
    "\\begin{align*} x_1 + 2x_2 + 3x_3 = 9 \\\\\n",
    "\n",
    "x_2 + 3x_3 = 8 \\\\\n",
    "\n",
    "x_3 = 2 \\end{align*}\n"
   ]
  }
 ],
 "metadata": {
  "kernelspec": {
   "display_name": "Python 3",
   "language": "python",
   "name": "python3"
  },
  "language_info": {
   "codemirror_mode": {
    "name": "ipython",
    "version": 3
   },
   "file_extension": ".py",
   "mimetype": "text/x-python",
   "name": "python",
   "nbconvert_exporter": "python",
   "pygments_lexer": "ipython3",
   "version": "3.10.13"
  }
 },
 "nbformat": 4,
 "nbformat_minor": 2
}