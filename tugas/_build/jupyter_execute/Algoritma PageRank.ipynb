{
 "cells": [
  {
   "cell_type": "markdown",
   "metadata": {},
   "source": [
    "# Algoritma PageRank\n",
    "\n",
    "\n",
    "## konsep PageRank \n",
    "\n",
    "Algoritma yang dirancang untuk menentukan relevansi halaman web berdasarkan kualitas dan jumlah backlink yang mengarah ke halaman tersebut."
   ]
  },
  {
   "cell_type": "markdown",
   "metadata": {},
   "source": [
    "### Algoritma Power Method\n",
    "\n",
    "$$\n",
    "\\begin{aligned}\n",
    "b = A*b \\\\\n",
    "norm = compute_norm(b) \\\\\n",
    "b = b/norm \n",
    "\\end{aligned}\n",
    "$$\n",
    "\n"
   ]
  },
  {
   "cell_type": "markdown",
   "metadata": {},
   "source": [
    "### Contoh 5\n",
    "\n",
    "$$\n",
    "\\begin{bmatrix}\n",
    "0 & 0 & 0 & 0 & 1/3 \\\\\n",
    "0 & 0 & 1/2 & 1 & 1/3 \\\\\n",
    "1/3 & 0 & 0 & 0 & 1/3 \\\\\n",
    "1/3 & 0 & 1/2 & 0 & 0 \\\\\n",
    "1/3 & 1 & 0 & 0 & 0 \\\\\n",
    "\\end{bmatrix}"
   ]
  },
  {
   "cell_type": "markdown",
   "metadata": {},
   "source": [
    "Toleransi:\n",
    "$$\n",
    "v0 =\\begin{bmatrix}\n",
    "0,01 \\\\\n",
    "0.01 \\\\\n",
    "0,01 \\\\\n",
    "0,01 \\\\\n",
    "\\end{bmatrix}\n",
    "$$"
   ]
  },
  {
   "cell_type": "markdown",
   "metadata": {},
   "source": [
    "### Perhitungan PageRank Secara Manual\n",
    "\n",
    "Menghitubg $ v^{(1)}$\n",
    "$$\n",
    "v^{(1)} = M \\cdot v^{(0)} = \\begin{bmatrix}\n",
    "0 & 0 & 0 & 0 & 1/3 \\\\\n",
    "0 & 0 & 1/2 & 1 & 1/3 \\\\\n",
    "1/3 & 0 & 0 & 0 & 1/3 \\\\\n",
    "1/3 & 0 & 1/2 & 0 & 0 \\\\\n",
    "1/3 & 1 & 0 & 0 & 0 \\\\\n",
    "\\end{bmatrix}\n",
    "\\begin{bmatrix}\n",
    "0.01 \\\\\n",
    "0.01 \\\\\n",
    "0.01 \\\\\n",
    "0.01 \\\\\n",
    "0.01 \\\\\n",
    "\\end{bmatrix}\n",
    "$$\n",
    "\n",
    "\n",
    "Setelah normalisasi, vektor $ v^{(1)}$ menjadi \n",
    "$$\n",
    "\\text{normalisasi dari } v^{(1)} = \\begin{bmatrix}\n",
    "\\frac{0.0033}{0.0369} \\\\\n",
    "\\frac{0.00667}{0.0369} \\\\\n",
    "\\frac{0.00667}{0.0369} \\\\\n",
    "\\frac{0.005}{0.0369} \\\\\n",
    "\\frac{0.0133}{0.0369} \\\\\n",
    "\\end{bmatrix}\n",
    "= \\begin{bmatrix}\n",
    "0.08967 \\\\\n",
    "0.18067 \\\\\n",
    "0.18067 \\\\\n",
    "0.13567 \\\\\n",
    "0.362 \\\\\n",
    "\\end{bmatrix}\n",
    "$$\n",
    "\n"
   ]
  },
  {
   "cell_type": "markdown",
   "metadata": {},
   "source": [
    "### cara dengan code numpy:"
   ]
  },
  {
   "cell_type": "code",
   "execution_count": 1,
   "metadata": {},
   "outputs": [
    {
     "name": "stdout",
     "output_type": "stream",
     "text": [
      "Result: [0.11112258 0.29631381 0.14815494 0.11110217 0.33330649]\n"
     ]
    }
   ],
   "source": [
    "import numpy as np\n",
    "\n",
    "# Definisikan matriks A dan vektor V\n",
    "A = np.array([[0, 0, 0, 0, 1/3],\n",
    "              [0, 0, 1/2, 1, 1/3],\n",
    "              [1/3, 0, 0, 0, 1/3],\n",
    "              [1/3, 0, 1/2, 0, 0],\n",
    "              [1/3, 1, 0, 0, 0]])\n",
    "\n",
    "V = np.array([1/5, 1/5, 1/5, 1/5, 1/5])\n",
    "\n",
    "def kalimatrik(A, V, conv=0.0001):\n",
    "    while True:\n",
    "        AV = A.dot(V)\n",
    "        if np.linalg.norm(AV - V) < conv:\n",
    "            break\n",
    "        V = AV\n",
    "    return AV\n",
    "\n",
    "result = kalimatrik(A, V)\n",
    "print(\"Result:\", result)\n"
   ]
  },
  {
   "cell_type": "markdown",
   "metadata": {},
   "source": [
    "### mengurutkan indeksing beradasarkan nilai dari hasil page rank"
   ]
  },
  {
   "cell_type": "code",
   "execution_count": 2,
   "metadata": {},
   "outputs": [
    {
     "name": "stdout",
     "output_type": "stream",
     "text": [
      "Result: [0.11112258 0.29631381 0.14815494 0.11110217 0.33330649]\n",
      "Sorted Indices: [3 0 2 1 4]\n",
      "Sorted Result: [0.11110217 0.11112258 0.14815494 0.29631381 0.33330649]\n"
     ]
    }
   ],
   "source": [
    "import numpy as np\n",
    "\n",
    "# Definisikan matriks A dan vektor V\n",
    "A = np.array([[0, 0, 0, 0, 1/3],\n",
    "              [0, 0, 1/2, 1, 1/3],\n",
    "              [1/3, 0, 0, 0, 1/3],\n",
    "              [1/3, 0, 1/2, 0, 0],\n",
    "              [1/3, 1, 0, 0, 0]])\n",
    "\n",
    "V = np.array([1/5, 1/5, 1/5, 1/5, 1/5])\n",
    "\n",
    "def kalimatrik(A, V, conv=0.0001):\n",
    "    while True:\n",
    "        AV = A.dot(V)\n",
    "        if np.linalg.norm(AV - V) < conv:\n",
    "            break\n",
    "        V = AV\n",
    "    return AV\n",
    "\n",
    "result = kalimatrik(A, V)\n",
    "print(\"Result:\", result)\n",
    "\n",
    "# Mengurutkan indeks berdasarkan nilai dari vektor hasil\n",
    "sorted_indices = np.argsort(result)\n",
    "sorted_result = result[sorted_indices]\n",
    "\n",
    "print(\"Sorted Indices:\", sorted_indices)\n",
    "print(\"Sorted Result:\", sorted_result)\n"
   ]
  },
  {
   "cell_type": "markdown",
   "metadata": {},
   "source": [
    "### Mencari berapa iterasinya disetiap "
   ]
  },
  {
   "cell_type": "code",
   "execution_count": 3,
   "metadata": {},
   "outputs": [
    {
     "name": "stdout",
     "output_type": "stream",
     "text": [
      "Result: [0.11112258 0.29631381 0.14815494 0.11110217 0.33330649]\n",
      "Total Iterations: 26\n",
      "Sorted Indices: [3 0 2 1 4]\n",
      "Sorted Result: [0.11110217 0.11112258 0.14815494 0.29631381 0.33330649]\n",
      "Iterations per Index: [26, 26, 26, 26, 26]\n"
     ]
    }
   ],
   "source": [
    "import numpy as np\n",
    "\n",
    "# Definisikan matriks A dan vektor V\n",
    "A = np.array([[0, 0, 0, 0, 1/3],\n",
    "              [0, 0, 1/2, 1, 1/3],\n",
    "              [1/3, 0, 0, 0, 1/3],\n",
    "              [1/3, 0, 1/2, 0, 0],\n",
    "              [1/3, 1, 0, 0, 0]])\n",
    "\n",
    "V = np.array([1/5, 1/5, 1/5, 1/5, 1/5])\n",
    "\n",
    "def kalimatrik(A, V, conv=0.0001):\n",
    "    iteration_count = 0  # Initialize iteration counter\n",
    "    while True:\n",
    "        AV = A.dot(V)\n",
    "        if np.linalg.norm(AV - V) < conv:\n",
    "            break\n",
    "        V = AV\n",
    "        iteration_count += 1  # Increment iteration counter\n",
    "    return AV, iteration_count\n",
    "\n",
    "result, iteration_count = kalimatrik(A, V)\n",
    "print(\"Result:\", result)\n",
    "print(\"Total Iterations:\", iteration_count)\n",
    "\n",
    "# Mengurutkan indeks berdasarkan nilai dari vektor hasil\n",
    "sorted_indices = np.argsort(result)\n",
    "sorted_result = result[sorted_indices]\n",
    "\n",
    "print(\"Sorted Indices:\", sorted_indices)\n",
    "print(\"Sorted Result:\", sorted_result)\n",
    "\n",
    "# Menghitung jumlah iterasi untuk setiap indeks\n",
    "iteration_counts_per_index = [iteration_count for _ in sorted_indices]\n",
    "\n",
    "print(\"Iterations per Index:\", iteration_counts_per_index)\n"
   ]
  },
  {
   "cell_type": "code",
   "execution_count": 4,
   "metadata": {},
   "outputs": [
    {
     "name": "stdout",
     "output_type": "stream",
     "text": [
      "Vektor Eigen Utama: [0.2+0.j 0.2+0.j 0.2+0.j 0.2+0.j 0.2+0.j]\n",
      "Indeks Terurut: [1 4 3 2 0]\n",
      "Hasil Terurut: [0.2+0.j 0.2+0.j 0.2+0.j 0.2+0.j 0.2+0.j]\n"
     ]
    }
   ],
   "source": [
    "import numpy as np\n",
    "\n",
    "# Definisikan matriks A\n",
    "A = np.array([[0, 0, 0, 0, 1/3],\n",
    "              [0, 0, 1/2, 1, 1/3],\n",
    "              [1/3, 0, 0, 0, 1/3],\n",
    "              [1/3, 0, 1/2, 0, 0],\n",
    "              [1/3, 1, 0, 0, 0]])\n",
    "\n",
    "# Menghitung nilai eigen dan vektor eigen\n",
    "nilai_eigen, vektor_eigen = np.linalg.eig(A.T)\n",
    "\n",
    "# Menemukan vektor eigen yang sesuai dengan nilai eigen 1\n",
    "vektor_eigen_utama = vektor_eigen[:, np.isclose(nilai_eigen, 1)]\n",
    "\n",
    "# Normalisasi vektor eigen tersebut\n",
    "vektor_eigen_utama = vektor_eigen_utama / vektor_eigen_utama.sum()\n",
    "\n",
    "# Mengubah bentuk vektor eigen utama dari 2D ke 1D jika diperlukan\n",
    "vektor_eigen_utama = vektor_eigen_utama.flatten()\n",
    "\n",
    "print(\"Vektor Eigen Utama:\", vektor_eigen_utama)\n",
    "\n",
    "# Mengurutkan indeks berdasarkan nilai dari vektor eigen utama\n",
    "indeks_terurut = np.argsort(vektor_eigen_utama)\n",
    "hasil_terurut = vektor_eigen_utama[indeks_terurut]\n",
    "\n",
    "print(\"Indeks Terurut:\", indeks_terurut)\n",
    "print(\"Hasil Terurut:\", hasil_terurut)\n"
   ]
  }
 ],
 "metadata": {
  "kernelspec": {
   "display_name": "Python 3",
   "language": "python",
   "name": "python3"
  },
  "language_info": {
   "codemirror_mode": {
    "name": "ipython",
    "version": 3
   },
   "file_extension": ".py",
   "mimetype": "text/x-python",
   "name": "python",
   "nbconvert_exporter": "python",
   "pygments_lexer": "ipython3",
   "version": "3.10.13"
  }
 },
 "nbformat": 4,
 "nbformat_minor": 2
}