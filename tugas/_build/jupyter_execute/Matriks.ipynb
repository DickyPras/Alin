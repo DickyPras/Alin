{
 "cells": [
  {
   "cell_type": "markdown",
   "metadata": {},
   "source": [
    "# MATRIKS\n",
    "\n",
    "## Definisi Matriks\n",
    "\n",
    "### Penjelasan tentang Matriks \n",
    "Matriks adalah suatu susunan bilangan real atau bilangan kompleks (atau elemen-elemen) yang disusun dalam baris dan kolom sehingga membentuk jajaran persegi panjang.[1]https://fti.ars.ac.id/blog/content/matriks--jenis-jenis-matriks\n",
    "\n",
    "contoh:\n",
    "\n",
    "$$\\begin{split}A = \\begin{bmatrix} \n",
    "3 & 1 & 0 \\\\ \n",
    "5 & 2 & 1 \\\\ \n",
    "0 & 2 & 3\n",
    "\\end{bmatrix}\\end{split}\n",
    "\n",
    "\\begin{split}c = \\begin{bmatrix} \n",
    "1 & 2  \\\\\n",
    "3 & 4  \\\\\n",
    "1 & 0\n",
    "\\end{bmatrix}\\end{split}\n",
    "$$"
   ]
  },
  {
   "cell_type": "markdown",
   "metadata": {},
   "source": [
    "### Jenis-jenis Matriks \n",
    "\n",
    "Jenis-jenis matrik yaitu Matrik nol, matrik diagonal, matrik skalar, matrik simetris, matrik identitas, matrik segitiga atas, matrik segitiga bawah, matrik transpose.\n",
    "\n",
    "a. Matrik Nol adalah matrik yang semua elemennya penyusunnya nol:\n",
    "\n",
    "$$\n",
    "\\begin{split}I = \\begin{bmatrix}\n",
    "0 & 0 & 0\\\\\n",
    "0 & 0 & 0 \\\\\n",
    "0 & 0 & 0\n",
    "\\end{bmatrix}\\end{split}\n",
    "$$\n",
    "\n",
    "b. Matrik Diagonal adalah suatu matrik yang dimana elemen-elemen diagonalnya mempunyai nilai tidal sama dengan nol dan elemen-elemen selain diagonal bernilai nol:\n",
    "\n",
    "$$\n",
    "\\begin{split}A = \\begin{bmatrix}\n",
    "1 & 0 & 0 \\\\\n",
    "0 & 2 & 0 \\\\\n",
    "0 & 0 & 3\n",
    "\\end{bmatrix}\\end{split}\n",
    "$$\n",
    "\n",
    "c. Matrik Skalar adalah matrik yang dimana elemen-elemen diagonalnya bernilai sama dan elemen-elemen selain diagonal bernilai nol:\n",
    "\n",
    "$$\n",
    "\\begin{split}A = \\begin{bmatrix}\n",
    "3 & 0 & 0 \\\\\n",
    "0 & 3 & 0 \\\\\n",
    "0 & 0 & 3\n",
    "\\end{bmatrix}\\end{split}\n",
    "$$\n",
    "\n",
    "d. Matriks simetris adalah suatu matrik yang jika elemen-elemen matriks A yang terletak pada baris dan kolom yang sama memiliki nilai yang sama dengan elemen-elemen matriks A yang terletak pada baris dan kolom yang berlawanan:\n",
    "\n",
    "$$\n",
    "\\begin{split}A = \\begin{bmatrix}\n",
    "3 & 1 & 2 \\\\\n",
    "1 & 4 & 0 \\\\\n",
    "2 & 0 & 3\n",
    "\\end{bmatrix}\\end{split}\n",
    "$$\n",
    "\n",
    "e. Matrik Identitas adalah suatu matrik yang elemen-elemen diagonalnya mempunyai nilai 1, sedangkan selain elemen pada diagonal bernilai nol:\n",
    "\n",
    "$$\n",
    "\\begin{split}A = \\begin{bmatrix}\n",
    "1 & 0 & 0 \\\\\n",
    "0 & 1 & 0 \\\\\n",
    "0 & 0 & 1\n",
    "\\end{bmatrix}\\end{split}\n",
    "$$\n",
    "\n",
    "f. Matrik Segitiga Atas adalah suatu matrik yang elemen-elemennya dibawah diagonal adalah nol:\n",
    "\n",
    "$$\n",
    "\\begin{split}A = \\begin{bmatrix}\n",
    "-2 & 6 & 1 \\\\\n",
    "0 & 2 & 3 \\\\\n",
    "0 & 0 & -2\n",
    "\\end{bmatrix}\\end{split}\n",
    "$$\n",
    "\n",
    "g. Matrik Segitiga Bawah adalah suatu matrik yang elemen-elemennya diatas diagonal adalah nol:\n",
    "\n",
    "$$\n",
    "\\begin{split}A = \\begin{bmatrix}\n",
    "-2 & 0 & 0 \\\\\n",
    "3 & -2 & 0 \n",
    "\\end{bmatrix}\\end{split}\n",
    "$$\n",
    "\n",
    "h. Matrik Transpose merupakan matrik yang diperoleh dari memindahkan elemen-elemen baris menjadi kolom atau sebaliknya:\n",
    "\n",
    "Selelum Transpose:\n",
    "\n",
    "$$\n",
    "\\begin{split}A = \\begin{bmatrix}\n",
    "1 & 2 & 3 \\\\ \n",
    "4 & 5 & 6\n",
    "\\end{bmatrix}\\end{split}\n",
    "$$\n",
    "\n",
    "Transpose:\n",
    "\n",
    "$$\n",
    "\\begin{split}A^T = \\begin{bmatrix} \n",
    "1 & 4  \\\\\n",
    "2 & 5  \\\\\n",
    "3 & 6\n",
    "\\end{bmatrix}\\end{split}\n",
    "$$\n",
    "\n",
    "\n",
    "\n",
    "\n",
    "\n",
    "\n",
    " \n"
   ]
  },
  {
   "cell_type": "markdown",
   "metadata": {},
   "source": [
    "### Penjelasan Numpy \n",
    "\n",
    "NumPy (Numerical Python) adalah library dalam bahasa pemrograman Python yang digunakan untuk memanipulasi dan meanalisis data numerik. Numpy menyediakan fungsi yang siap pakai untuk memudahkan melakukan perhitungan saintifik seperti matriks, aljabar,dan statistik."
   ]
  },
  {
   "cell_type": "code",
   "execution_count": 1,
   "metadata": {},
   "outputs": [],
   "source": [
    "import numpy as np"
   ]
  },
  {
   "cell_type": "markdown",
   "metadata": {},
   "source": [
    "### Ordo/Ukuran/Order dari suatu matriks\n",
    "\n",
    "Ordo/ukuran dari suatu matriks ditentukan oleh banyaknya baris dan kolom yang dimiliki oleh matriks tersebut. Contoh: Matriks A pada contoh di atas meniliki dua buah baris dan dua buah kolom, sehingga kita katakana matriks A berordo 2 x 2.[3] https://fti.ars.ac.id/blog/content/matriks--jenis-jenis-matriks\n"
   ]
  },
  {
   "cell_type": "markdown",
   "metadata": {},
   "source": [
    "Contoh Matriks berordo 2 x 2\n",
    "\n",
    "$$\n",
    "\\begin{split}A = \\begin{bmatrix} \n",
    "1 & 2  \\\\\n",
    "3 & 4  \\\\\n",
    "\\end{bmatrix}\\end{split}\n",
    "$$"
   ]
  },
  {
   "cell_type": "code",
   "execution_count": 2,
   "metadata": {},
   "outputs": [],
   "source": [
    "# import library numpy\n",
    "\n",
    "import numpy as np"
   ]
  },
  {
   "cell_type": "markdown",
   "metadata": {},
   "source": [
    "Gunakan np.array([matriks]) untuk membuat matriks dengan nilai yang dpat diisi sendiri"
   ]
  },
  {
   "cell_type": "code",
   "execution_count": 3,
   "metadata": {},
   "outputs": [
    {
     "name": "stdout",
     "output_type": "stream",
     "text": [
      "A\n",
      "[[1 3]\n",
      " [2 1]] \n",
      "\n",
      "B\n",
      "[[ 3  0  4]\n",
      " [-1 -2  1]] \n",
      "\n",
      "C\n",
      "[[-2  1]\n",
      " [ 4  1]] \n",
      "\n",
      "D\n",
      "[[2]\n",
      " [6]] \n",
      "\n"
     ]
    }
   ],
   "source": [
    "import numpy as np \n",
    "A = np.array([[1,3],[2,1]])\n",
    "B = np.array([[3,0,4],[-1,-2,1]])\n",
    "C = np.array([[-2,1],[4,1]])\n",
    "D = np.array([[2],[6]])\n",
    "\n",
    "print(\"A\")\n",
    "print(A,\"\\n\")\n",
    "\n",
    "print(\"B\")\n",
    "print(B,\"\\n\")\n",
    "\n",
    "print(\"C\")\n",
    "print(C,\"\\n\")\n",
    "\n",
    "print(\"D\")\n",
    "print(D,\"\\n\")\n"
   ]
  },
  {
   "cell_type": "markdown",
   "metadata": {},
   "source": [
    "Gunakan np.random.randint(n,seze(=i,j) untuk membuat matriks dengan nilai int acak 0-n dan memeiliki baris i dan kolom j"
   ]
  },
  {
   "cell_type": "code",
   "execution_count": 4,
   "metadata": {},
   "outputs": [
    {
     "name": "stdout",
     "output_type": "stream",
     "text": [
      "F\n",
      "[[7 6]\n",
      " [5 9]] \n",
      "\n",
      "E\n",
      "[[9 1]\n",
      " [8 6]\n",
      " [8 7]] \n",
      "\n",
      "G\n",
      "[[4 0 7]\n",
      " [8 7 3]\n",
      " [8 3 2]] \n",
      "\n"
     ]
    }
   ],
   "source": [
    "E = np.random.randint(10,size=(2,2))\n",
    "F = np.random.randint(10,size=(3,2))\n",
    "G = np.random.randint(10,size=(3,3))\n",
    "print(\"F\")\n",
    "print(E,\"\\n\")\n",
    "\n",
    "print(\"E\")\n",
    "print(F,\"\\n\")\n",
    "\n",
    "print(\"G\")\n",
    "print(G,\"\\n\")"
   ]
  },
  {
   "cell_type": "markdown",
   "metadata": {},
   "source": [
    "Untuk mengecek panjang baris dan kolom dapat menggunakan np.shape atau len"
   ]
  },
  {
   "cell_type": "code",
   "execution_count": 5,
   "metadata": {},
   "outputs": [
    {
     "name": "stdout",
     "output_type": "stream",
     "text": [
      "baris dan kolom matriks A\n",
      " (2, 2)\n",
      "baris dan kolom matriks B\n",
      " 2 3\n"
     ]
    }
   ],
   "source": [
    "print(\"baris dan kolom matriks A\\n\",np.shape(A))\n",
    "print(\"baris dan kolom matriks B\\n\", len(B),len(B[0]))"
   ]
  },
  {
   "cell_type": "markdown",
   "metadata": {},
   "source": [
    "## Operasi-operasi matriks\n",
    "\n",
    "matriks yang ukurannya sama dapat dijumlahkan.Hasilnya adalah semua elemen yang bersesuaian ditambhkan dan ditulis dalam bentuk.\n",
    "\n",
    "\n",
    "(A+C) = a+c\n",
    "\n",
    "A+0=A dimana 0 matriks nol\n",
    "\n",
    "A+B=B+A\n",
    "\n",
    "(A+B)+C=A+(B+C)"
   ]
  },
  {
   "cell_type": "markdown",
   "metadata": {},
   "source": [
    "## Operasi Matriks\n",
    "\n",
    "### Penjumlahan \n",
    "\n",
    "syarat matriks agar bisa dijumlahkan adalah dua matriks harus memiliki ordo yang sama dengan kata  lain seperti matrik A dan Matrik B mempunyai ordo yang sama. Hasil penjumlahannya berupa matrik C dengan ordo yang sama dengan matrik A dan B.\n",
    "\n",
    "1. Sifat komutatif Pada sifat ini berlaku A + B = B + A.\n",
    "\n",
    "2. Sifat asosiatif Pada sifat ini berlaku (A + B) + C = A +(B + C)\n",
    "\n",
    "3. Matriks nol Pada sifat ini berlaku A + 0 = A\n",
    "\n",
    "4. Jika dijumlahkan dengan lawannya akan menghasilkan matriks nol, yaitu A + (-A) = 0.\n",
    "\n",
    "[4]https://www.pijarbelajar.id/blog/operasi-matriks-penjumlahan-pengurangan-dan-perkalian-beserta-contoh-soalnya. Contohnya seperti matriks di bawah ini. \n"
   ]
  },
  {
   "cell_type": "code",
   "execution_count": 6,
   "metadata": {},
   "outputs": [
    {
     "name": "stdout",
     "output_type": "stream",
     "text": [
      "Matrik A\n",
      "[[1 3]\n",
      " [2 1]] \n",
      "\n",
      "Matrik C\n",
      "[[-2  1]\n",
      " [ 4  1]] \n",
      "\n",
      "hasil matriks A+C =\n",
      "[[-1  4]\n",
      " [ 6  2]]\n"
     ]
    }
   ],
   "source": [
    "print(\"Matrik A\")\n",
    "print(A,\"\\n\")\n",
    "\n",
    "print(\"Matrik C\")\n",
    "print(C,\"\\n\")\n",
    "\n",
    "ac = A+C\n",
    "print(\"hasil matriks A+C =\")\n",
    "print(ac,)"
   ]
  },
  {
   "cell_type": "markdown",
   "metadata": {},
   "source": [
    "### Pengurangan \n",
    "\n",
    "Konsep pengurangan pada operasi matriks sama seperti cara pengerjaan penjumlahan, jadi tinggal mengurangkan masing-masing baris sesuai dengan urutannya. \n",
    "Syarat pengurangan matriks pun sama dengan penjumlahan, yaitu kedua matriks harus memiliki ordo yang sama sehingga bisa dioperasikan.[5]https://www.pijarbelajar.id/blog/operasi-matriks-penjumlahan-pengurangan-dan-perkalian-beserta-contoh-soalnya\n",
    "\n",
    "Dibawah ini merupakan contoh operasi pengurangan matriks : "
   ]
  },
  {
   "cell_type": "code",
   "execution_count": 7,
   "metadata": {},
   "outputs": [
    {
     "name": "stdout",
     "output_type": "stream",
     "text": [
      "Matrix A\n",
      "[[1 3]\n",
      " [2 1]] \n",
      "\n",
      "Matrix C\n",
      "[[-2  1]\n",
      " [ 4  1]] \n",
      "\n",
      "hasil of A-C =\n",
      "[[ 3  2]\n",
      " [-2  0]]\n"
     ]
    }
   ],
   "source": [
    "\n",
    "print(\"Matrix A\")\n",
    "print(A,\"\\n\")\n",
    "\n",
    "print(\"Matrix C\")\n",
    "print(C,\"\\n\")\n",
    "\n",
    "ac = A - C\n",
    "print(\"hasil of A-C =\")\n",
    "print(ac)\n"
   ]
  },
  {
   "cell_type": "markdown",
   "metadata": {},
   "source": [
    "### Perkalian \n",
    "\n",
    "#### Operasi Perkalian Matriks dengan Bilangan Real (Skalar)\n",
    "\n",
    "Perkalian matriks dengan bilangan real (skalar) tidak memiliki persyaratan. Jadi, semua matriks dengan ordo apapun bisa dikalikan dengan bilangan real (skalar).[6]https://www.pijarbelajar.id/blog/operasi-matriks-penjumlahan-pengurangan-dan-perkalian-beserta-contoh-soalnya\n",
    "\n",
    "Dibawah ini merupakan contoh operasi perkalian matriks dengan bilangan saklar :\n",
    "\n"
   ]
  },
  {
   "cell_type": "code",
   "execution_count": 8,
   "metadata": {},
   "outputs": [
    {
     "name": "stdout",
     "output_type": "stream",
     "text": [
      "matriks A\n",
      "[[1 3]\n",
      " [2 1]] \n",
      "\n",
      "saklar J\n",
      "4 \n",
      "\n",
      "hasil perkalian matriks A dengan saklar J\n",
      "[[ 4 12]\n",
      " [ 8  4]] \n",
      "\n"
     ]
    }
   ],
   "source": [
    "# perkalian dengan saklar \n",
    "\n",
    "# J adalah saklar dan A adalah matriks\n",
    "\n",
    "J = 4\n",
    "JA = J * A\n",
    "print(\"matriks A\")\n",
    "print(A,\"\\n\")\n",
    "print(\"saklar J\")\n",
    "print(J,\"\\n\")\n",
    "print(\"hasil perkalian matriks A dengan saklar J\")\n",
    "print(JA,\"\\n\")\n"
   ]
  },
  {
   "cell_type": "markdown",
   "metadata": {},
   "source": [
    "#### Perkalian Dua Matriks\n",
    "\n",
    "1) Sifat tidak komutatif\n",
    "\n",
    "(AB)C = A(BC)\n",
    "\n",
    "2) Pada sifat distributif ini berkaitan dengan operasi penjumlahan matriks. \n",
    "\n",
    "A(B + C) = AB + AC\n",
    "\n",
    "Berikut contohnya:\n",
    "\n",
    "X (Y + Z) = XY + XZ\n",
    "\n",
    "(Y + Z) X = YX + ZX \n",
    "\n",
    "[7]https://www.pijarbelajar.id/blog/operasi-matriks-penjumlahan-pengurangan-dan-perkalian-beserta-contoh-soalnya\n"
   ]
  },
  {
   "cell_type": "code",
   "execution_count": 9,
   "metadata": {},
   "outputs": [
    {
     "name": "stdout",
     "output_type": "stream",
     "text": [
      "Ini Matrik a: \n",
      "[[1 2 3]\n",
      " [4 5 6]\n",
      " [4 5 6]]\n",
      "\n",
      "Ini Matrik b: \n",
      "[[ 3  2  1]\n",
      " [-1 -2 -3]\n",
      " [ 7  5  6]]\n",
      "\n",
      "Hasil a x b: \n",
      "[[22 13 13]\n",
      " [49 28 25]\n",
      " [49 28 25]]\n"
     ]
    }
   ],
   "source": [
    "a = np.array(([1,2,3],[4,5,6],[4,5,6]))\n",
    "b = np.array(([3,2,1],[-1,-2,-3],[7,5,6]))\n",
    "\n",
    "hasil = np.dot(a,b)\n",
    "\n",
    "print('Ini Matrik a: ')\n",
    "print(a)\n",
    "print()\n",
    "print('Ini Matrik b: ')\n",
    "print(b)\n",
    "print()\n",
    "print('Hasil a x b: ')\n",
    "print(hasil)"
   ]
  },
  {
   "cell_type": "markdown",
   "metadata": {},
   "source": [
    "## Tugas perkalian Dua Matriks \n",
    "\n",
    "### Perkalian dua Matriks menggunakan perulangan "
   ]
  },
  {
   "cell_type": "code",
   "execution_count": 10,
   "metadata": {},
   "outputs": [
    {
     "name": "stdout",
     "output_type": "stream",
     "text": [
      "Matriks A [[2, 4], [2, 5], [2, 3]] \n",
      "\n",
      "MAtriks B [[3, 5, 1], [1, 6, 3]] \n",
      "\n",
      "panjang baris dan kolom\n",
      "Matriks A\n",
      "3 2 \n",
      "\n",
      "Matriks B\n",
      "2 3 \n",
      "\n",
      "hasil dari perkalian matrix :\n",
      "\n",
      "[[10, 34, 14], [11, 40, 17], [9, 28, 11]] \n",
      "\n"
     ]
    }
   ],
   "source": [
    "listA = [[2,4],[2,5],[2,3]]\n",
    "\n",
    "listB = [[3,5,1],[1,6,3]]\n",
    "  \n",
    "print(\"Matriks A\",listA,\"\\n\")\n",
    "print(\"MAtriks B\",listB,\"\\n\")\n",
    "\n",
    "print(\"panjang baris dan kolom\")\n",
    "print(\"Matriks A\")\n",
    "print(len(listA),len(listA[0]),\"\\n\")\n",
    "print(\"Matriks B\")\n",
    "print(len(listB),len(listB[0]),\"\\n\")\n",
    "\n",
    "# n adalah panjang baris matrix listA\n",
    "n = len(listA)\n",
    "\n",
    "# adalah panjang kolom matrix listA dan panjang baris matrix listB\n",
    "m = len(listA[0])\n",
    "\n",
    "# p adalah panjang baris matrix listB\n",
    "p = len(listB[0])\n",
    "\n",
    "hasil = []\n",
    "# perulangan terjadi sebanyak panjang baris listA\n",
    "for i in range(0,n):\n",
    "  hasil1 = []\n",
    "  # perulangan terjadi sebanyak panjang baris listB\n",
    "  for j in range(0,p):\n",
    "    jumlah = 0\n",
    "    for k in range(0,m):\n",
    "      jumlah += listA[i][k] * listB[k][j]\n",
    "    hasil1.append(jumlah)\n",
    "  hasil.append(hasil1)\n",
    "print(\"hasil dari perkalian matrix :\" \"\\n\")\n",
    "print(hasil,\"\\n\")"
   ]
  },
  {
   "cell_type": "markdown",
   "metadata": {},
   "source": [
    "### Perkalian dua matriks dengan library numpy"
   ]
  },
  {
   "cell_type": "code",
   "execution_count": 11,
   "metadata": {},
   "outputs": [
    {
     "name": "stdout",
     "output_type": "stream",
     "text": [
      "[[2 4]\n",
      " [2 5]\n",
      " [2 3]] \n",
      "\n",
      "[[2 5 1]\n",
      " [1 6 3]] \n",
      "\n",
      "[[ 8 34 14]\n",
      " [ 9 40 17]\n",
      " [ 7 28 11]] \n",
      "\n",
      "[[ 8 34 14]\n",
      " [ 9 40 17]\n",
      " [ 7 28 11]] \n",
      "\n"
     ]
    }
   ],
   "source": [
    "MatriksA = np.array(([2,4],[2,5],[2,3]))\n",
    "MatriksB = np.array(([2,5,1],[1,6,3]))\n",
    "\n",
    "print(MatriksA,\"\\n\")\n",
    "print(MatriksB,\"\\n\")\n",
    "\n",
    "dot1 = np.dot(MatriksA,MatriksB)\n",
    "dot2 = MatriksA.dot(MatriksB)\n",
    "\n",
    "print(dot1,\"\\n\")\n",
    "print(dot2,\"\\n\")"
   ]
  },
  {
   "cell_type": "code",
   "execution_count": 12,
   "metadata": {},
   "outputs": [
    {
     "name": "stdout",
     "output_type": "stream",
     "text": [
      "[[ 8 34 14]\n",
      " [ 9 40 17]\n",
      " [ 7 28 11]] \n",
      "\n",
      "[[ 8 34 14]\n",
      " [ 9 40 17]\n",
      " [ 7 28 11]] \n",
      "\n"
     ]
    }
   ],
   "source": [
    "matriksA= np.array((([2,1],[1,1])))\n",
    "matrixB=np.array((([1,0],[0,1])))\n",
    "\n",
    "dot1 = np.dot(MatriksA,MatriksB)\n",
    "dot2 = MatriksA.dot(MatriksB)\n",
    "\n",
    "print(dot1,\"\\n\")\n",
    "print(dot2,\"\\n\")"
   ]
  }
 ],
 "metadata": {
  "kernelspec": {
   "display_name": "Python 3",
   "language": "python",
   "name": "python3"
  },
  "language_info": {
   "codemirror_mode": {
    "name": "ipython",
    "version": 3
   },
   "file_extension": ".py",
   "mimetype": "text/x-python",
   "name": "python",
   "nbconvert_exporter": "python",
   "pygments_lexer": "ipython3",
   "version": "3.10.13"
  }
 },
 "nbformat": 4,
 "nbformat_minor": 2
}