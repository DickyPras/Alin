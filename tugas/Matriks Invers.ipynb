{
 "cells": [
  {
   "cell_type": "markdown",
   "metadata": {},
   "source": [
    "# Matrix Invers\n",
    "\n",
    "## Definisi\n",
    "Invers matriks adalah kebalikan (invers) dari sebuah matriks yang apabila matriks tersebut dikalikan dengan inversnya, akan menjadi matriks identitas. Invers matriks dilambangkan dengan A-1. Suatu matriks dikatakan memiliki invers jika determinan dari matriks tersebut tidak sama dengan nol.\n",
    "\n",
    "Misal : $\n",
    "AA^{-1}=A^{-1}A=\\begin{bmatrix}\n",
    "1 & 0\\\\\n",
    "0 & 1\n",
    "\\end{bmatrix}\n",
    "$\n",
    "\n",
    "Untuk menentukan invers dari sebuah matriks, terdapat dua aturan berdasarkan ordonya, yaitu ordo 2x2 dan ordo 3x3.[1]https://akupintar.id/info-pintar/-/blogs/matriks-pengertian-operasi-determinan-invers-dan-contoh-soal\n",
    "\n",
    "\n",
    "Rumus untuk mencari invers matrik: $A^{-1} = \\frac{1}{\\det{\\left(A\\right)}} \\left[\\begin{matrix}d&-b\\\\-c&a\\\\\\end{matrix}\\right]$ \n",
    "\n",
    "\\begin{split}\n",
    "A^{-1} = \\frac{1}{ad-bc} \\left[\\begin{matrix}d&-b\\\\-c&a\\\\\\end{matrix}\\right]\\end{split}\n",
    "\n",
    "### Sifat-sifat matriks invers\n",
    "\n",
    "Jika A dan B adalah matriks-matriks yang dapat dibalik dan yang ukurannya sama, maka\n",
    "\n",
    "1.  $(A^{-1})^{-1} = A$\n",
    "\n",
    "2.  $A^n$ invertebel dan $(A^n)^{-1} = (A^{-1})^n$\n",
    "\n",
    "3.  $kA$ adalah matrik invertebel dan $(kA)^{-1} = (\\frac{1}{k})A^{-1}$\n",
    "\n",
    "4.  $A^T$ invertebel dan $(A^T)^{-1} = (A^{-1})^T$\n",
    "\n",
    "5.  $A$ dan $B$\n",
    " keduanya matriks invertibel, maka AB\n",
    " invertibel dan $(AB)^{-1} = B^{-1}A^{-1}$\n",
    "\n",
    "Sebuah hasilkali matriks yang dapat dibalik selalu dapat dibalik, dan invers hasil kali tersebut adalah hasil kali invers dalam urutan yang dibalik. [1]https://jagostat.com/aljabar-linear/definisi-dan-sifat-sifat-invers-matriks\n",
    "\n"
   ]
  },
  {
   "cell_type": "markdown",
   "metadata": {},
   "source": [
    "### Solusi persamaan sistem linier dengan matrik invers\n",
    "\n",
    "Sistem persamaan linier\n",
    "\n",
    "$2x + 3y = 6$\n",
    "\n",
    "$4x + 5y = 11$\n",
    "\n",
    "ubah dalam persamaan matrik:\n",
    "\n",
    "\\begin{split}\n",
    "\\begin{bmatrix}\n",
    "2 & 3\\\\\n",
    "4 & 5\n",
    "\\end{bmatrix}\n",
    "\\begin{bmatrix}\n",
    "x\\\\\n",
    "y\n",
    "\\end{bmatrix}=\n",
    "\\begin{bmatrix}\n",
    "6\\\\\n",
    "11\n",
    "\\end{bmatrix}\n",
    "\\end{split}\n",
    "\n",
    "\n",
    "Langkah ke pertama: \n",
    "\n",
    "\\begin{split}\n",
    "\\begin{bmatrix}\n",
    "x\\\\\n",
    "y\n",
    "\\end{bmatrix}=\n",
    "\\begin{bmatrix}\n",
    "2 & 3\\\\\n",
    "4 & 5\n",
    "\\end{bmatrix}^{-1}\n",
    "\\begin{bmatrix}\n",
    "6\\\\\n",
    "11\n",
    "\\end{bmatrix}\n",
    "\\end{split}\n",
    "\n",
    "\n",
    "Langkah ke-dua:\n",
    "\n",
    "\\begin{split}\n",
    "\\begin{bmatrix}\n",
    "x\\\\\n",
    "y\n",
    "\\end{bmatrix}\n",
    "=\\frac{1}{-2}\\begin{bmatrix}\n",
    "5 & -3\\\\\n",
    "-4 & 2\n",
    "\\end{bmatrix}\n",
    "\\begin{bmatrix}\n",
    "6\\\\\n",
    "11\n",
    "\\end{bmatrix}\n",
    "\\end{split}\n",
    "\n",
    "Langkah ke-tiga:\n",
    "\n",
    "\\begin{split}\n",
    "\\begin{bmatrix}\n",
    "x\\\\\n",
    "y\n",
    "\\end{bmatrix}\n",
    "=\\frac{1}{-2}\\begin{bmatrix}\n",
    "-3\\\\\n",
    "-2\n",
    "\\end{bmatrix}\n",
    "\\end{split}\n",
    "\n",
    "Langkah ke-empat: \n",
    "\n",
    "\\begin{split}\n",
    "\\begin{bmatrix}\n",
    "x\\\\\n",
    "y\n",
    "\\end{bmatrix}=\n",
    "\\begin{bmatrix}\n",
    "1.5\\\\\n",
    "1\n",
    "\\end{bmatrix}\n",
    "\\end{split}"
   ]
  },
  {
   "cell_type": "code",
   "execution_count": 1,
   "metadata": {},
   "outputs": [
    {
     "name": "stdout",
     "output_type": "stream",
     "text": [
      "[[1.5]\n",
      " [1. ]]\n"
     ]
    }
   ],
   "source": [
    "import numpy as np\n",
    "A = np.array([[2, 3], [4, 5]])\n",
    "Ai = np.linalg.inv(A) # menghitung inverse A\n",
    "b = np.array([[6], [11]])\n",
    "q = np.dot(Ai, b)\n",
    "print(q)"
   ]
  },
  {
   "cell_type": "markdown",
   "metadata": {},
   "source": [
    "### Mencari matriks Invers dengan eliminasi gauss jordan\n",
    "\n",
    "Metode Gauss-Jordan merupakan salah satu varian dari eliminasi Gaussian yang dilakukan dengan cara operasi reduksi baris untuk mencari invers suatu matriks.\n",
    "\n",
    "contoh mencari inver =s dengan eliminasi gauss jordan menggunakan matrik dengan ordo 3x3\n",
    "\n",
    "contoh soal $A = \\begin{bmatrix}\n",
    "1 & 2 & 3\\\\\n",
    "0 & 1 & 4 \\\\\n",
    "5 & 6 & 0\n",
    "\\end{bmatrix}$\n",
    "\n",
    "\n",
    "\\begin{split}I = \\begin{bmatrix}\n",
    "1 & 0 & 0\\\\\n",
    "0 & 1 & 0 \\\\\n",
    "0 & 0 & 1\n",
    "\\end{bmatrix}\\end{split}\n",
    "\n",
    "Kemudian gunakan gauss jordan elimination \n",
    "\n",
    "$A = \\begin{bmatrix}\n",
    "1 & 2 & 3|1 & 0 & 0\\\\\n",
    "0 & 1 & 4|0 & 1 & 0  \\\\\n",
    "5 & 6 & 0|0 & 0 & 1\n",
    "\\end{bmatrix}$\n",
    " \n",
    "untuk mencari invers, gimana caranya matriks identitasnya bisa ada disebelah kiri, terserah baris berapa mau di tambahin/dikurangin/dikali/dibagi dengan baris manapun.\n",
    "\n",
    "Kita kalikan baris pertama dengan 5 kemudian dikurangi baris ketiga $A = \\begin{bmatrix}\n",
    "1 & 2 & 3|1 & 0 & 0\\\\\n",
    "0 & 1 & 4|0 & 1 & 0  \\\\\n",
    "0 & -4 & -15|-5 & 0 & 1\n",
    "\\end{bmatrix}\n",
    "$\n",
    "\n",
    "\n",
    "langkah terakhir kita tinggal kurangkan baris pertama dengan 2x baris kedua.hasilnya : $A = \\begin{bmatrix}\n",
    "1 & 0 & 0|-24 & 18 & 5\\\\\n",
    "0 & 1 & 0|20 & -15 & -4  \\\\\n",
    "0 & 0 & 1|-5 & 4 & 1\n",
    "\\end{bmatrix}\n",
    "$\n",
    "\n",
    "nah yang ada disebelah kanan adalah invers dari matrik A. jadi invers matriknya\n",
    "\n",
    "\\begin{split}A^{-1} = \\begin{bmatrix}\n",
    "-24 & 18 & 5\\\\\n",
    "20 & -15 & -4  \\\\\n",
    "-5 & 4 & 1\n",
    "\\end{bmatrix}\\end{split}\n",
    "\n",
    " \n"
   ]
  },
  {
   "cell_type": "code",
   "execution_count": 18,
   "metadata": {},
   "outputs": [
    {
     "name": "stdout",
     "output_type": "stream",
     "text": [
      "Matriks A : \n",
      "\n",
      "[[1 2 3]\n",
      " [0 1 4]\n",
      " [5 6 0]]\n",
      "\n",
      " Matriks Identitas : \n",
      "\n",
      "[[1 0 0]\n",
      " [0 1 0]\n",
      " [0 0 1]]\n"
     ]
    }
   ],
   "source": [
    "import numpy as np\n",
    "\n",
    "# Membuat Matriks \n",
    "A = np.array([(1,2,3),\n",
    "             (0,1,4),\n",
    "             (5,6,0)])\n",
    "I = np.array([(1,0,0),\n",
    "              (0,1,0),\n",
    "              (0,0,1)])\n",
    "print(\"Matriks A : \\n\")\n",
    "print(A)\n",
    "print(\"\\n Matriks Identitas : \\n\")\n",
    "print(I)"
   ]
  },
  {
   "cell_type": "markdown",
   "metadata": {},
   "source": [
    "### Code eliminasi gauus jordan\n"
   ]
  },
  {
   "cell_type": "code",
   "execution_count": 19,
   "metadata": {},
   "outputs": [
    {
     "name": "stdout",
     "output_type": "stream",
     "text": [
      "[[1 2 3 1 0 0]\n",
      " [0 1 4 0 1 0]\n",
      " [5 6 0 0 0 1]]\n"
     ]
    }
   ],
   "source": [
    "EG = np.array([(1,2,3,1,0,0),\n",
    "             (0,1,4,0,1,0),\n",
    "             (5,6,0,0,0,1)])\n",
    "print(EG)"
   ]
  },
  {
   "cell_type": "markdown",
   "metadata": {},
   "source": [
    " Menambahakan fungsi RowAdd:"
   ]
  },
  {
   "cell_type": "code",
   "execution_count": 20,
   "metadata": {},
   "outputs": [],
   "source": [
    "def RowAdd(A,k,l,scale):\n",
    "# =============================================================================\n",
    "#     A adalah sebuah NumPy array.  RowAdd akan menghasilkan duplicate dari \n",
    "#     array dengan baris k akan di kali dengan 'scale' bukan 0. lalu nilai\n",
    "#     baris l akan di tambah dengan nilai baris k yang sudah dikalikan  \n",
    "# =============================================================================\n",
    "    m = A.shape[0]  # m adalah nomor baris di A\n",
    "    n = A.shape[1]  # n adalah nomor kolom di A\n",
    "\n",
    "    B = np.copy(A).astype('float64')\n",
    "\n",
    "    for j in range(n):\n",
    "        B[l][j] += B[k][j]*scale\n",
    "\n",
    "    return B\n",
    "\n",
    "def RowSwap(A,k,l):\n",
    "# =============================================================================\n",
    "#     A adalah sebuah NumPy array.  RowSwap akan menghasilkan duplicate dari \n",
    "#     array dengan baris k dan l di tukar\n",
    "# =============================================================================\n",
    "    m = A.shape[0]  # m adalah nomor baris di A\n",
    "    n = A.shape[1]  # n adalah nomor kolom di A\n",
    "\n",
    "    B = np.copy(A).astype('float64')\n",
    "\n",
    "    for j in range(n):\n",
    "        temp = B[k][j]\n",
    "        B[k][j] = B[l][j]\n",
    "        B[l][j] = temp\n",
    "\n",
    "    return B\n",
    "\n",
    "def RowScale(A,k,scale):\n",
    "# =============================================================================\n",
    "#     A adalah sebuah NumPy array.  RowScale akan menghasilkan duplicate dari \n",
    "#     array dengan baris k di kali dengan skalar bukan 0\n",
    "# =============================================================================\n",
    "    m = A.shape[0]  # m adalah nomor baris di A\n",
    "    n = A.shape[1]  # n adalah nomor kolom di A\n",
    "\n",
    "    B = np.copy(A).astype('float64')\n",
    "\n",
    "    for j in range(n):\n",
    "        B[k][j] *= scale\n",
    "\n",
    "    return B"
   ]
  },
  {
   "cell_type": "markdown",
   "metadata": {},
   "source": [
    " Kita kurangkan baris ketiga dengan 5x baris pertama"
   ]
  },
  {
   "cell_type": "code",
   "execution_count": 21,
   "metadata": {},
   "outputs": [
    {
     "name": "stdout",
     "output_type": "stream",
     "text": [
      "Matriks awal:\n",
      "[[1 2 3 1 0 0]\n",
      " [0 1 4 0 1 0]\n",
      " [5 6 0 0 0 1]]\n",
      "\n",
      "Hasil:\n",
      "[[  1.   2.   3.   1.   0.   0.]\n",
      " [  0.   1.   4.   0.   1.   0.]\n",
      " [  0.  -4. -15.  -5.   0.   1.]]\n"
     ]
    }
   ],
   "source": [
    "RA = np.array([(1,2,3,1,0,0),\n",
    "             (0,1,4,0,1,0),\n",
    "             (5,6,0,0,0,1)])\n",
    "\n",
    "k = 0\n",
    "l = 2\n",
    "scale = -5\n",
    "\n",
    "result = RowAdd(RA, k, l, scale)\n",
    "print(\"Matriks awal:\")\n",
    "print(RA)\n",
    "print(\"\\nHasil:\")\n",
    "print(result)"
   ]
  },
  {
   "cell_type": "markdown",
   "metadata": {},
   "source": [
    " Dari matriks diatas, kita tambahkan baris ke 3 dengan 4kali baris ke dua"
   ]
  },
  {
   "cell_type": "code",
   "execution_count": 22,
   "metadata": {},
   "outputs": [
    {
     "name": "stdout",
     "output_type": "stream",
     "text": [
      "Matriks awal:\n",
      "[[  1   2   3   1   0   0]\n",
      " [  0   1   4   0   1   0]\n",
      " [  0  -4 -15  -5   0   1]]\n",
      "\n",
      "Hasil:\n",
      "[[ 1.  2.  3.  1.  0.  0.]\n",
      " [ 0.  1.  4.  0.  1.  0.]\n",
      " [ 0.  0.  1. -5.  4.  1.]]\n"
     ]
    }
   ],
   "source": [
    "RA2 = np.array([(1,2,3,1,0,0),\n",
    "             (0,1,4,0,1,0),\n",
    "             (0,-4,-15,-5,0,1)])\n",
    "k = 1\n",
    "l = 2\n",
    "scale = 4\n",
    "\n",
    "result = RowAdd(RA2, k, l, scale)\n",
    "print(\"Matriks awal:\")\n",
    "print(RA2)\n",
    "print(\"\\nHasil:\")\n",
    "print(result)"
   ]
  },
  {
   "cell_type": "markdown",
   "metadata": {},
   "source": [
    "Langkah selanjutnya kurangkan baris kedua dengan 4x baris ketiga"
   ]
  },
  {
   "cell_type": "code",
   "execution_count": 23,
   "metadata": {},
   "outputs": [
    {
     "name": "stdout",
     "output_type": "stream",
     "text": [
      "Matriks awal:\n",
      "[[ 1  2  3  1  0  0]\n",
      " [ 0  1  4  0  1  0]\n",
      " [ 0  0  1 -5  4  1]]\n",
      "\n",
      "Hasil :\n",
      "[[  1.   2.   3.   1.   0.   0.]\n",
      " [  0.   1.   0.  20. -15.  -4.]\n",
      " [  0.   0.   1.  -5.   4.   1.]]\n"
     ]
    }
   ],
   "source": [
    "RA3 = np.array([(1,2,3,1,0,0),\n",
    "             (0,1,4,0,1,0),\n",
    "             (0,0,1,-5,4,1)])\n",
    "\n",
    "k = 2\n",
    "l = 1\n",
    "scale = -4\n",
    "\n",
    "result = RowAdd(RA3, k, l, scale)\n",
    "print(\"Matriks awal:\")\n",
    "print(RA3)\n",
    "print(\"\\nHasil :\")\n",
    "print(result)"
   ]
  },
  {
   "cell_type": "markdown",
   "metadata": {},
   "source": [
    " kita kurangkan juga baris pertama dengan 3x baris ketiga"
   ]
  },
  {
   "cell_type": "code",
   "execution_count": 24,
   "metadata": {},
   "outputs": [
    {
     "name": "stdout",
     "output_type": "stream",
     "text": [
      "Matriks awal:\n",
      "[[  1   2   3   1   0   0]\n",
      " [  0   1   0  20 -15  -4]\n",
      " [  0   0   1  -5   4   1]]\n",
      "\n",
      "Hasil :\n",
      "[[  1.   2.   0.  16. -12.  -3.]\n",
      " [  0.   1.   0.  20. -15.  -4.]\n",
      " [  0.   0.   1.  -5.   4.   1.]]\n"
     ]
    }
   ],
   "source": [
    "RA4 = np.array([(1,2,3,1,0,0),\n",
    "             (0,1,0,20,-15,-4),\n",
    "             (0,0,1,-5,4,1)])\n",
    "k = 2\n",
    "l = 0\n",
    "scale = -3\n",
    "\n",
    "result = RowAdd(RA4, k, l, scale)\n",
    "print(\"Matriks awal:\")\n",
    "print(RA4)\n",
    "print(\"\\nHasil :\")\n",
    "print(result)"
   ]
  },
  {
   "cell_type": "markdown",
   "metadata": {},
   "source": [
    " langkah terakhir kita kurangkan baris pertama dengan 2x baris kedua"
   ]
  },
  {
   "cell_type": "code",
   "execution_count": 25,
   "metadata": {},
   "outputs": [
    {
     "name": "stdout",
     "output_type": "stream",
     "text": [
      "Matriks awal:\n",
      "[[  1   2   0  16 -12  -3]\n",
      " [  0   1   0  20 -15  -4]\n",
      " [  0   0   1  -5   4   1]]\n",
      "\n",
      "Hasil :\n",
      "[[  1.   0.   0. -24.  18.   5.]\n",
      " [  0.   1.   0.  20. -15.  -4.]\n",
      " [  0.   0.   1.  -5.   4.   1.]]\n"
     ]
    }
   ],
   "source": [
    "RA5 = np.array([(1,2,0,16,-12,-3),\n",
    "             (0,1,0,20,-15,-4),\n",
    "             (0,0,1,-5,4,1)])\n",
    "k = 1\n",
    "l = 0\n",
    "scale = -2\n",
    "\n",
    "result = RowAdd(RA5, k, l, scale)\n",
    "print(\"Matriks awal:\")\n",
    "print(RA5)\n",
    "print(\"\\nHasil :\")\n",
    "print(result)"
   ]
  },
  {
   "cell_type": "markdown",
   "metadata": {},
   "source": [
    "Maka invers dari matriks A adalah : \n",
    "\\begin{bmatrix} -24 & 18 & 5\\\\\n",
    " 20 & -15 & -4\\\\ -5 & 4 & 1\\\\ \\end{bmatrix}"
   ]
  },
  {
   "cell_type": "markdown",
   "metadata": {},
   "source": [
    "###  Penyelesaian sistem persamaan linier menggunakan matriks invers membuat soal 4 persamaan 4 variabel cari solusinya dengan eliminasi gaus \n",
    "Buatkan Penyelesaian sistem persamaan dari \n",
    "\n",
    "\n",
    "\\begin{align*} 4x_1 + 8x_2 + 5x_3 + 4x_4 = 12\\\\\n",
    "\n",
    "4x_1 + 5x_2 + 4x_3 + 5x_4 = 15 \\\\\n",
    "\n",
    "5x_1 + 4x_2 + 1x_3 + 6x_4 = 9 \\\\\n",
    "\n",
    "3x_1 + 5x_2 + 2x_3 + 4x_4 = 5\\end{align*} \n",
    "\n",
    "\n",
    "\n",
    "\\begin{bmatrix} 4 & 8 & 5 & 4\\\\\n",
    " 4 & 5 & 4 & 5 \\\\ \n",
    " 5 & 4 & 1 & 6\\\\ \n",
    " 3  & 5 & 2 & 4\\\\\n",
    "  \\end{bmatrix}\n",
    "\n",
    "\\begin{bmatrix} x1\\\\\n",
    "  x2\\\\ x3  \n",
    "  \\\\ x4\\end{bmatrix}\n",
    "\n",
    "\\begin{bmatrix} 12 \\\\ 15 \\\\ 9 \\\\ 5 \\end{bmatrix}\n",
    "\n",
    "\n",
    "\\begin{align*}= b \\\\\n",
    "X = A-1 b \\\\\n",
    "x = A- b \\\\\n",
    "x = A-1 b \\end{align*}\n",
    "#### Jawaban\n"
   ]
  },
  {
   "cell_type": "code",
   "execution_count": 37,
   "metadata": {},
   "outputs": [
    {
     "name": "stdout",
     "output_type": "stream",
     "text": [
      "[[2 3 1 1 1 0 0 0]\n",
      " [1 1 5 1 0 1 0 0]\n",
      " [3 2 2 4 0 0 1 0]\n",
      " [4 1 3 2 0 0 0 1]]\n"
     ]
    }
   ],
   "source": [
    "import numpy as np\n",
    " \n",
    "A = np.array([[2,3,1,1,1,0,0,0],\n",
    "              [1,1,5,1,0,1,0,0],\n",
    "              [3,2,2,4,0,0,1,0],\n",
    "              [4,1,3,2,0,0,0,1]])\n",
    "print(A)"
   ]
  },
  {
   "cell_type": "code",
   "execution_count": 38,
   "metadata": {},
   "outputs": [
    {
     "name": "stdout",
     "output_type": "stream",
     "text": [
      "Matriks awal:\n",
      "[[2 3 1 1 1 0 0 0]\n",
      " [1 1 5 1 0 1 0 0]\n",
      " [3 2 2 4 0 0 1 0]\n",
      " [4 1 3 2 0 0 0 1]]\n",
      "\n",
      "Hasil :\n",
      "[[ 1.  2. -4.  0.  1. -1.  0.  0.]\n",
      " [ 1.  1.  5.  1.  0.  1.  0.  0.]\n",
      " [ 3.  2.  2.  4.  0.  0.  1.  0.]\n",
      " [ 4.  1.  3.  2.  0.  0.  0.  1.]]\n"
     ]
    }
   ],
   "source": [
    "k = 1\n",
    "l = 0\n",
    "scale = -1\n",
    "\n",
    "h = RowAdd(A, k, l, scale)\n",
    "print(\"Matriks awal:\")\n",
    "print(A)\n",
    "print(\"\\nHasil :\")\n",
    "print(h)"
   ]
  },
  {
   "cell_type": "code",
   "execution_count": 39,
   "metadata": {},
   "outputs": [
    {
     "name": "stdout",
     "output_type": "stream",
     "text": [
      "Matriks awal:\n",
      "[[ 1.  2. -4.  0.  1. -1.  0.  0.]\n",
      " [ 1.  1.  5.  1.  0.  1.  0.  0.]\n",
      " [ 3.  2.  2.  4.  0.  0.  1.  0.]\n",
      " [ 4.  1.  3.  2.  0.  0.  0.  1.]]\n",
      "\n",
      "Hasil :\n",
      "[[ 1.  2. -4.  0.  1. -1.  0.  0.]\n",
      " [ 0. -1.  9.  1. -1.  2.  0.  0.]\n",
      " [ 3.  2.  2.  4.  0.  0.  1.  0.]\n",
      " [ 4.  1.  3.  2.  0.  0.  0.  1.]]\n"
     ]
    }
   ],
   "source": [
    "k = 0\n",
    "l = 1\n",
    "scale = -1\n",
    "\n",
    "h2 = RowAdd(h, k, l, scale)\n",
    "print(\"Matriks awal:\")\n",
    "print(h)\n",
    "print(\"\\nHasil :\")\n",
    "print(h2)"
   ]
  },
  {
   "cell_type": "code",
   "execution_count": 40,
   "metadata": {},
   "outputs": [
    {
     "name": "stdout",
     "output_type": "stream",
     "text": [
      "Matriks awal:\n",
      "[[ 1.  2. -4.  0.  1. -1.  0.  0.]\n",
      " [ 0. -1.  9.  1. -1.  2.  0.  0.]\n",
      " [ 3.  2.  2.  4.  0.  0.  1.  0.]\n",
      " [ 4.  1.  3.  2.  0.  0.  0.  1.]]\n",
      "\n",
      "Hasil :\n",
      "[[ 1.  2. -4.  0.  1. -1.  0.  0.]\n",
      " [ 0. -1.  9.  1. -1.  2.  0.  0.]\n",
      " [ 0. -4. 14.  4. -3.  3.  1.  0.]\n",
      " [ 4.  1.  3.  2.  0.  0.  0.  1.]]\n"
     ]
    }
   ],
   "source": [
    "k = 0\n",
    "l = 2\n",
    "scale = -3\n",
    "\n",
    "h3 = RowAdd(h2, k, l, scale)\n",
    "print(\"Matriks awal:\")\n",
    "print(h2)\n",
    "print(\"\\nHasil :\")\n",
    "print(h3)"
   ]
  },
  {
   "cell_type": "code",
   "execution_count": 41,
   "metadata": {},
   "outputs": [
    {
     "name": "stdout",
     "output_type": "stream",
     "text": [
      "Matriks awal:\n",
      "[[ 1.  2. -4.  0.  1. -1.  0.  0.]\n",
      " [ 0. -1.  9.  1. -1.  2.  0.  0.]\n",
      " [ 0. -4. 14.  4. -3.  3.  1.  0.]\n",
      " [ 4.  1.  3.  2.  0.  0.  0.  1.]]\n",
      "\n",
      "Hasil :\n",
      "[[ 1.  2. -4.  0.  1. -1.  0.  0.]\n",
      " [ 0. -1.  9.  1. -1.  2.  0.  0.]\n",
      " [ 0. -4. 14.  4. -3.  3.  1.  0.]\n",
      " [ 0. -7. 19.  2. -4.  4.  0.  1.]]\n"
     ]
    }
   ],
   "source": [
    "k = 0\n",
    "l = 3\n",
    "scale = -4\n",
    "\n",
    "h4 = RowAdd(h3, k, l, scale)\n",
    "print(\"Matriks awal:\")\n",
    "print(h3)\n",
    "print(\"\\nHasil :\")\n",
    "print(h4)"
   ]
  },
  {
   "cell_type": "code",
   "execution_count": 42,
   "metadata": {},
   "outputs": [
    {
     "name": "stdout",
     "output_type": "stream",
     "text": [
      "Matriks awal:\n",
      "[[ 1.  2. -4.  0.  1. -1.  0.  0.]\n",
      " [ 0. -1.  9.  1. -1.  2.  0.  0.]\n",
      " [ 0. -4. 14.  4. -3.  3.  1.  0.]\n",
      " [ 0. -7. 19.  2. -4.  4.  0.  1.]]\n",
      "\n",
      "Hasil :\n",
      "[[ 1.  2. -4.  0.  1. -1.  0.  0.]\n",
      " [-0.  1. -9. -1.  1. -2. -0. -0.]\n",
      " [ 0. -4. 14.  4. -3.  3.  1.  0.]\n",
      " [ 0. -7. 19.  2. -4.  4.  0.  1.]]\n"
     ]
    }
   ],
   "source": [
    "k = 1\n",
    "l = 0\n",
    "scale = -1\n",
    "\n",
    "h5 = RowScale(h4, k, scale)\n",
    "print(\"Matriks awal:\")\n",
    "print(h4)\n",
    "print(\"\\nHasil :\")\n",
    "print(h5)"
   ]
  },
  {
   "cell_type": "code",
   "execution_count": 43,
   "metadata": {},
   "outputs": [
    {
     "name": "stdout",
     "output_type": "stream",
     "text": [
      "Matriks awal:\n",
      "[[ 1.  2. -4.  0.  1. -1.  0.  0.]\n",
      " [-0.  1. -9. -1.  1. -2. -0. -0.]\n",
      " [ 0. -4. 14.  4. -3.  3.  1.  0.]\n",
      " [ 0. -7. 19.  2. -4.  4.  0.  1.]]\n",
      "\n",
      "Hasil :\n",
      "[[ 1.  0. 14.  2. -1.  3.  0.  0.]\n",
      " [-0.  1. -9. -1.  1. -2. -0. -0.]\n",
      " [ 0. -4. 14.  4. -3.  3.  1.  0.]\n",
      " [ 0. -7. 19.  2. -4.  4.  0.  1.]]\n"
     ]
    }
   ],
   "source": [
    "k = 1\n",
    "l = 0\n",
    "scale = -2\n",
    "\n",
    "h6 = RowAdd(h5, k, l, scale)\n",
    "print(\"Matriks awal:\")\n",
    "print(h5)\n",
    "print(\"\\nHasil :\")\n",
    "print(h6)"
   ]
  },
  {
   "cell_type": "code",
   "execution_count": 44,
   "metadata": {},
   "outputs": [
    {
     "name": "stdout",
     "output_type": "stream",
     "text": [
      "Matriks awal:\n",
      "[[ 1.  0. 14.  2. -1.  3.  0.  0.]\n",
      " [-0.  1. -9. -1.  1. -2. -0. -0.]\n",
      " [ 0. -4. 14.  4. -3.  3.  1.  0.]\n",
      " [ 0. -7. 19.  2. -4.  4.  0.  1.]]\n",
      "\n",
      "Hasil :\n",
      "[[  1.   0.  14.   2.  -1.   3.   0.   0.]\n",
      " [ -0.   1.  -9.  -1.   1.  -2.  -0.  -0.]\n",
      " [  0.   0. -22.   0.   1.  -5.   1.   0.]\n",
      " [  0.  -7.  19.   2.  -4.   4.   0.   1.]]\n"
     ]
    }
   ],
   "source": [
    "k = 1\n",
    "l = 2\n",
    "scale = 4\n",
    "\n",
    "h7 = RowAdd(h6, k, l, scale)\n",
    "print(\"Matriks awal:\")\n",
    "print(h6)\n",
    "print(\"\\nHasil :\")\n",
    "print(h7)"
   ]
  },
  {
   "cell_type": "code",
   "execution_count": 45,
   "metadata": {},
   "outputs": [
    {
     "name": "stdout",
     "output_type": "stream",
     "text": [
      "Matriks awal:\n",
      "[[  1.   0.  14.   2.  -1.   3.   0.   0.]\n",
      " [ -0.   1.  -9.  -1.   1.  -2.  -0.  -0.]\n",
      " [  0.   0. -22.   0.   1.  -5.   1.   0.]\n",
      " [  0.  -7.  19.   2.  -4.   4.   0.   1.]]\n",
      "\n",
      "Hasil :\n",
      "[[  1.   0.  14.   2.  -1.   3.   0.   0.]\n",
      " [ -0.   1.  -9.  -1.   1.  -2.  -0.  -0.]\n",
      " [  0.   0. -22.   0.   1.  -5.   1.   0.]\n",
      " [  0.   0. -44.  -5.   3. -10.   0.   1.]]\n"
     ]
    }
   ],
   "source": [
    "k = 1\n",
    "l = 3\n",
    "scale = 7\n",
    "h8 = RowAdd(h7, k, l, scale)\n",
    "print(\"Matriks awal:\")\n",
    "print(h7)\n",
    "print(\"\\nHasil :\")\n",
    "print(h8)"
   ]
  },
  {
   "cell_type": "code",
   "execution_count": 46,
   "metadata": {},
   "outputs": [
    {
     "name": "stdout",
     "output_type": "stream",
     "text": [
      "Matriks awal:\n",
      "[[  1.   0.  14.   2.  -1.   3.   0.   0.]\n",
      " [ -0.   1.  -9.  -1.   1.  -2.  -0.  -0.]\n",
      " [  0.   0. -22.   0.   1.  -5.   1.   0.]\n",
      " [  0.   0. -44.  -5.   3. -10.   0.   1.]]\n",
      "\n",
      "Hasil :\n",
      "[[  1.           0.          14.           2.          -1.\n",
      "    3.           0.           0.        ]\n",
      " [ -0.           1.          -9.          -1.           1.\n",
      "   -2.          -0.          -0.        ]\n",
      " [ -0.          -0.           1.          -0.          -0.04545455\n",
      "    0.22727273  -0.04545455  -0.        ]\n",
      " [  0.           0.         -44.          -5.           3.\n",
      "  -10.           0.           1.        ]]\n"
     ]
    }
   ],
   "source": [
    "k = 2\n",
    "l = 2\n",
    "scale = -1/22\n",
    "\n",
    "h9 = RowScale(h8, k, scale)\n",
    "print(\"Matriks awal:\")\n",
    "print(h8)\n",
    "print(\"\\nHasil :\")\n",
    "print(h9)"
   ]
  },
  {
   "cell_type": "code",
   "execution_count": 47,
   "metadata": {},
   "outputs": [
    {
     "name": "stdout",
     "output_type": "stream",
     "text": [
      "Matriks awal:\n",
      "[[  1.           0.          14.           2.          -1.\n",
      "    3.           0.           0.        ]\n",
      " [ -0.           1.          -9.          -1.           1.\n",
      "   -2.          -0.          -0.        ]\n",
      " [ -0.          -0.           1.          -0.          -0.04545455\n",
      "    0.22727273  -0.04545455  -0.        ]\n",
      " [  0.           0.         -44.          -5.           3.\n",
      "  -10.           0.           1.        ]]\n",
      "\n",
      "Hasil :\n",
      "[[  1.           0.           0.           2.          -0.36363636\n",
      "   -0.18181818   0.63636364   0.        ]\n",
      " [ -0.           1.          -9.          -1.           1.\n",
      "   -2.          -0.          -0.        ]\n",
      " [ -0.          -0.           1.          -0.          -0.04545455\n",
      "    0.22727273  -0.04545455  -0.        ]\n",
      " [  0.           0.         -44.          -5.           3.\n",
      "  -10.           0.           1.        ]]\n"
     ]
    }
   ],
   "source": [
    "k = 2\n",
    "l = 0\n",
    "scale = -14\n",
    "\n",
    "h10 = RowAdd(h9, k, l,scale)\n",
    "print(\"Matriks awal:\")\n",
    "print(h9)\n",
    "print(\"\\nHasil :\")\n",
    "print(h10)"
   ]
  },
  {
   "cell_type": "code",
   "execution_count": 48,
   "metadata": {},
   "outputs": [
    {
     "name": "stdout",
     "output_type": "stream",
     "text": [
      "Matriks awal:\n",
      "[[  1.           0.           0.           2.          -0.36363636\n",
      "   -0.18181818   0.63636364   0.        ]\n",
      " [ -0.           1.          -9.          -1.           1.\n",
      "   -2.          -0.          -0.        ]\n",
      " [ -0.          -0.           1.          -0.          -0.04545455\n",
      "    0.22727273  -0.04545455  -0.        ]\n",
      " [  0.           0.         -44.          -5.           3.\n",
      "  -10.           0.           1.        ]]\n",
      "\n",
      "Hasil :\n",
      "[[  1.           0.           0.           2.          -0.36363636\n",
      "   -0.18181818   0.63636364   0.        ]\n",
      " [ -0.           1.           0.          -1.           0.59090909\n",
      "    0.04545455  -0.40909091  -0.        ]\n",
      " [ -0.          -0.           1.          -0.          -0.04545455\n",
      "    0.22727273  -0.04545455  -0.        ]\n",
      " [  0.           0.         -44.          -5.           3.\n",
      "  -10.           0.           1.        ]]\n"
     ]
    }
   ],
   "source": [
    "k = 2\n",
    "l = 1\n",
    "scale = 9\n",
    "\n",
    "h11 = RowAdd(h10, k, l,scale)\n",
    "print(\"Matriks awal:\")\n",
    "print(h10)\n",
    "print(\"\\nHasil :\")\n",
    "print(h11)"
   ]
  },
  {
   "cell_type": "code",
   "execution_count": 49,
   "metadata": {},
   "outputs": [
    {
     "name": "stdout",
     "output_type": "stream",
     "text": [
      "Matriks awal:\n",
      "[[  1.           0.           0.           2.          -0.36363636\n",
      "   -0.18181818   0.63636364   0.        ]\n",
      " [ -0.           1.           0.          -1.           0.59090909\n",
      "    0.04545455  -0.40909091  -0.        ]\n",
      " [ -0.          -0.           1.          -0.          -0.04545455\n",
      "    0.22727273  -0.04545455  -0.        ]\n",
      " [  0.           0.         -44.          -5.           3.\n",
      "  -10.           0.           1.        ]]\n",
      "\n",
      "Hasil :\n",
      "[[ 1.          0.          0.          2.         -0.36363636 -0.18181818\n",
      "   0.63636364  0.        ]\n",
      " [-0.          1.          0.         -1.          0.59090909  0.04545455\n",
      "  -0.40909091 -0.        ]\n",
      " [-0.         -0.          1.         -0.         -0.04545455  0.22727273\n",
      "  -0.04545455 -0.        ]\n",
      " [ 0.          0.          0.         -5.          1.          0.\n",
      "  -2.          1.        ]]\n"
     ]
    }
   ],
   "source": [
    "k = 2\n",
    "l = 3\n",
    "scale = 44\n",
    "\n",
    "h12 = RowAdd(h11, k, l,scale)\n",
    "print(\"Matriks awal:\")\n",
    "print(h11)\n",
    "print(\"\\nHasil :\")\n",
    "print(h12)"
   ]
  },
  {
   "cell_type": "code",
   "execution_count": 51,
   "metadata": {},
   "outputs": [
    {
     "name": "stdout",
     "output_type": "stream",
     "text": [
      "Matriks awal:\n",
      "[[ 1.          0.          0.          2.         -0.36363636 -0.18181818\n",
      "   0.63636364  0.        ]\n",
      " [-0.          1.          0.         -1.          0.59090909  0.04545455\n",
      "  -0.40909091 -0.        ]\n",
      " [-0.         -0.          1.         -0.         -0.04545455  0.22727273\n",
      "  -0.04545455 -0.        ]\n",
      " [ 0.          0.          0.         -5.          1.          0.\n",
      "  -2.          1.        ]]\n",
      "\n",
      "Hasil :\n",
      "[[ 1.          0.          0.          2.         -0.36363636 -0.18181818\n",
      "   0.63636364  0.        ]\n",
      " [-0.          1.          0.         -1.          0.59090909  0.04545455\n",
      "  -0.40909091 -0.        ]\n",
      " [-0.         -0.          1.         -0.         -0.04545455  0.22727273\n",
      "  -0.04545455 -0.        ]\n",
      " [-0.         -0.         -0.          1.         -0.2        -0.\n",
      "   0.4        -0.2       ]]\n"
     ]
    }
   ],
   "source": [
    "k = 3\n",
    "l = 3\n",
    "scale = -1/5\n",
    "\n",
    "h13 = RowScale(h12, k,scale)\n",
    "print(\"Matriks awal:\")\n",
    "print(h12)\n",
    "print(\"\\nHasil :\")\n",
    "print(h13)"
   ]
  },
  {
   "cell_type": "code",
   "execution_count": 52,
   "metadata": {},
   "outputs": [
    {
     "name": "stdout",
     "output_type": "stream",
     "text": [
      "Matriks awal:\n",
      "[[ 1.          0.          0.          2.         -0.36363636 -0.18181818\n",
      "   0.63636364  0.        ]\n",
      " [-0.          1.          0.         -1.          0.59090909  0.04545455\n",
      "  -0.40909091 -0.        ]\n",
      " [-0.         -0.          1.         -0.         -0.04545455  0.22727273\n",
      "  -0.04545455 -0.        ]\n",
      " [-0.         -0.         -0.          1.         -0.2        -0.\n",
      "   0.4        -0.2       ]]\n",
      "\n",
      "Hasil :\n",
      "[[ 1.          0.          0.          0.          0.03636364 -0.18181818\n",
      "  -0.16363636  0.4       ]\n",
      " [-0.          1.          0.         -1.          0.59090909  0.04545455\n",
      "  -0.40909091 -0.        ]\n",
      " [-0.         -0.          1.         -0.         -0.04545455  0.22727273\n",
      "  -0.04545455 -0.        ]\n",
      " [-0.         -0.         -0.          1.         -0.2        -0.\n",
      "   0.4        -0.2       ]]\n"
     ]
    }
   ],
   "source": [
    "k = 3\n",
    "l = 0\n",
    "scale = -2\n",
    "\n",
    "h14 = RowAdd(h13, k, l, scale)\n",
    "print(\"Matriks awal:\")\n",
    "print(h13)\n",
    "print(\"\\nHasil :\")\n",
    "print(h14)"
   ]
  },
  {
   "cell_type": "code",
   "execution_count": 53,
   "metadata": {},
   "outputs": [
    {
     "name": "stdout",
     "output_type": "stream",
     "text": [
      "Matriks awal:\n",
      "[[ 1.          0.          0.          0.          0.03636364 -0.18181818\n",
      "  -0.16363636  0.4       ]\n",
      " [-0.          1.          0.         -1.          0.59090909  0.04545455\n",
      "  -0.40909091 -0.        ]\n",
      " [-0.         -0.          1.         -0.         -0.04545455  0.22727273\n",
      "  -0.04545455 -0.        ]\n",
      " [-0.         -0.         -0.          1.         -0.2        -0.\n",
      "   0.4        -0.2       ]]\n",
      "\n",
      "Hasil :\n",
      "[[ 1.          0.          0.          0.          0.03636364 -0.18181818\n",
      "  -0.16363636  0.4       ]\n",
      " [-0.          1.          0.          0.          0.39090909  0.04545455\n",
      "  -0.00909091 -0.2       ]\n",
      " [-0.         -0.          1.         -0.         -0.04545455  0.22727273\n",
      "  -0.04545455 -0.        ]\n",
      " [-0.         -0.         -0.          1.         -0.2        -0.\n",
      "   0.4        -0.2       ]]\n"
     ]
    }
   ],
   "source": [
    "k = 3\n",
    "l = 1\n",
    "scale = 1\n",
    "\n",
    "h15 = RowAdd(h14, k, l, scale)\n",
    "print(\"Matriks awal:\")\n",
    "print(h14)\n",
    "print(\"\\nHasil :\")\n",
    "print(h15)"
   ]
  },
  {
   "cell_type": "code",
   "execution_count": 58,
   "metadata": {},
   "outputs": [
    {
     "name": "stdout",
     "output_type": "stream",
     "text": [
      "[[-1.76363626]\n",
      " [ 4.29090914]\n",
      " [ 2.4545454 ]\n",
      " [ 0.2       ]]\n"
     ]
    }
   ],
   "source": [
    "Inv = np.array([[0.03636364, -0.18181818,  -0.16363636,  0.4],\n",
    "            [0.39090909,  0.04545455,  -0.00909091, -0.2       ],\n",
    "            [-0.04545455,  0.22727273,  -0.04545455, -0        ],\n",
    "            [ -0.2,        -0,   0.4,        -0.2,       ]])\n",
    "B = np.array([[12],\n",
    "              [15],\n",
    "               [9],\n",
    "               [5]])\n",
    "\n",
    "hasil = np.dot(Inv,B)\n",
    "print(hasil)"
   ]
  },
  {
   "cell_type": "code",
   "execution_count": 59,
   "metadata": {},
   "outputs": [
    {
     "name": "stdout",
     "output_type": "stream",
     "text": [
      "[[2 3 1 1 1 0 0 0]\n",
      " [1 1 5 1 0 1 0 0]\n",
      " [3 2 2 4 0 0 1 0]\n",
      " [4 1 3 2 0 0 0 1]]\n"
     ]
    }
   ],
   "source": [
    "import numpy as np\n",
    "\n",
    "A = np.array([[2,3,1,1,1,0,0,0], [1,1,5,1,0,1,0,0], [3,2,2,4,0,0,1,0], [4,1,3,2,0,0,0,1]]) \n",
    "print(A)"
   ]
  },
  {
   "cell_type": "code",
   "execution_count": 60,
   "metadata": {},
   "outputs": [
    {
     "name": "stdout",
     "output_type": "stream",
     "text": [
      "[12.0000003]\n"
     ]
    }
   ],
   "source": [
    "A1 = A[0,:-4]\n",
    "per1 = A1@hasil\n",
    "print(per1)"
   ]
  },
  {
   "cell_type": "code",
   "execution_count": 61,
   "metadata": {},
   "outputs": [
    {
     "name": "stdout",
     "output_type": "stream",
     "text": [
      "[14.99999988]\n"
     ]
    }
   ],
   "source": [
    "A2 = A[1,:-4]\n",
    "per2 = A2@hasil\n",
    "print(per2)"
   ]
  },
  {
   "cell_type": "code",
   "execution_count": 62,
   "metadata": {},
   "outputs": [
    {
     "name": "stdout",
     "output_type": "stream",
     "text": [
      "[9.0000003]\n"
     ]
    }
   ],
   "source": [
    "A3 = A[2,:-4]\n",
    "per3 = A3@hasil\n",
    "print(per3)"
   ]
  },
  {
   "cell_type": "code",
   "execution_count": 63,
   "metadata": {},
   "outputs": [
    {
     "name": "stdout",
     "output_type": "stream",
     "text": [
      "[5.0000003]\n"
     ]
    }
   ],
   "source": [
    "A4 = A[3,:-4]\n",
    "per4 = A4@hasil\n",
    "print(per4)"
   ]
  },
  {
   "cell_type": "markdown",
   "metadata": {},
   "source": [
    "SELESAI"
   ]
  },
  {
   "cell_type": "markdown",
   "metadata": {},
   "source": [
    "### soal Waktu kuliah 3 variabel"
   ]
  },
  {
   "cell_type": "code",
   "execution_count": null,
   "metadata": {},
   "outputs": [
    {
     "name": "stdout",
     "output_type": "stream",
     "text": [
      "[[ 1.   1.   0.5  0.5  0.   0. ]\n",
      " [ 0.   1.  -0.5  1.  -0.5  0. ]\n",
      " [ 0.   0.   1.   5.  -2.  -2. ]]\n"
     ]
    }
   ],
   "source": [
    "import numpy as np\n",
    "\n",
    "def RowSwap(A,k,l):\n",
    "# =============================================================================\n",
    "#     A is a NumPy array.  RowSwap will return duplicate array with rows\n",
    "#     k and l swapped.\n",
    "# =============================================================================\n",
    "    m = A.shape[0]  # m is number of rows in A\n",
    "    n = A.shape[1]  # n is number of columns in A\n",
    "\n",
    "    B = np.copy(A).astype('float64')\n",
    "\n",
    "    for j in range(n):\n",
    "        temp = B[k][j]\n",
    "        B[k][j] = B[l][j]\n",
    "        B[l][j] = temp\n",
    "\n",
    "    return B\n",
    "\n",
    "def RowScale(A,k,scale):\n",
    "# =============================================================================\n",
    "#     A is a NumPy array.  RowScale will return duplicate array with the\n",
    "#     entries of row k multiplied by scale.\n",
    "# =============================================================================\n",
    "    m = A.shape[0]  # m is number of rows in A\n",
    "    n = A.shape[1]  # n is number of columns in A\n",
    "\n",
    "    B = np.copy(A).astype('float64')\n",
    "\n",
    "    for j in range(n):\n",
    "        B[k][j] *= scale\n",
    "\n",
    "    return B\n",
    "\n",
    "def RowAdd(A,k,l,scale):\n",
    "# =============================================================================\n",
    "#     A is a numpy array.  RowAdd will return duplicate array with row\n",
    "#     l modifed.  The new values will be the old values of row l added to\n",
    "#     the values of row k, multiplied by scale.\n",
    "# =============================================================================\n",
    "    m = A.shape[0]  # m is number of rows in A\n",
    "    n = A.shape[1]  # n is number of columns in A\n",
    "\n",
    "    B = np.copy(A).astype('float64')\n",
    "\n",
    "    for j in range(n):\n",
    "        B[l][j] += B[k][j]*scale\n",
    "\n",
    "    return B\n",
    "\n",
    "# a = np.array([[2,2,1,1,0,0],[4,2,3,0,1,0],[1,3,-1,0,0,1]])\n",
    "# print(a)\n",
    "a = np.array([[1,1,0.5,0.5,0,0],[0,1,-0.5,1,-0.5,0],[0,0,1,5,-2,-2]])\n",
    "print(a)"
   ]
  },
  {
   "cell_type": "code",
   "execution_count": null,
   "metadata": {},
   "outputs": [
    {
     "name": "stdout",
     "output_type": "stream",
     "text": [
      "[[ 1.   1.   0.5  0.5  0.   0. ]\n",
      " [ 0.   1.  -0.5  1.  -0.5  0. ]\n",
      " [ 0.   0.   0.5  2.5 -1.  -1. ]]\n"
     ]
    }
   ],
   "source": [
    "b = RowScale(a,2,1/2)\n",
    "print(b)"
   ]
  },
  {
   "cell_type": "code",
   "execution_count": null,
   "metadata": {},
   "outputs": [
    {
     "name": "stdout",
     "output_type": "stream",
     "text": [
      "[[ 1.   1.   0.5  0.5  0.   0. ]\n",
      " [ 0.   1.   0.   3.5 -1.5 -1. ]\n",
      " [ 0.   0.   0.5  2.5 -1.  -1. ]]\n"
     ]
    }
   ],
   "source": [
    "c = RowAdd(b,2,1,1)\n",
    "print(c)"
   ]
  },
  {
   "cell_type": "code",
   "execution_count": null,
   "metadata": {},
   "outputs": [
    {
     "name": "stdout",
     "output_type": "stream",
     "text": [
      "[[ 1.   1.   0.  -2.   1.   1. ]\n",
      " [ 0.   1.   0.   3.5 -1.5 -1. ]\n",
      " [ 0.   0.   0.5  2.5 -1.  -1. ]]\n"
     ]
    }
   ],
   "source": [
    "d = RowAdd(c,2,0,-1)\n",
    "print(d)"
   ]
  },
  {
   "cell_type": "code",
   "execution_count": null,
   "metadata": {},
   "outputs": [
    {
     "name": "stdout",
     "output_type": "stream",
     "text": [
      "[[ 1.   1.   0.  -2.   1.   1. ]\n",
      " [ 0.   1.   0.   3.5 -1.5 -1. ]\n",
      " [ 0.   0.   1.   5.  -2.  -2. ]]\n"
     ]
    }
   ],
   "source": [
    "f = RowScale(d,2,2)\n",
    "print(f)"
   ]
  },
  {
   "cell_type": "code",
   "execution_count": null,
   "metadata": {},
   "outputs": [
    {
     "name": "stdout",
     "output_type": "stream",
     "text": [
      "[[ 1.   1.   0.  -2.   1.   1. ]\n",
      " [ 0.   1.   0.   3.5 -1.5 -1. ]\n",
      " [ 0.   0.   1.   5.  -2.  -2. ]]\n"
     ]
    }
   ],
   "source": [
    "f = RowScale(d,2,2)\n",
    "print(f)"
   ]
  },
  {
   "cell_type": "code",
   "execution_count": null,
   "metadata": {},
   "outputs": [
    {
     "name": "stdout",
     "output_type": "stream",
     "text": [
      "[[3.]\n",
      " [1.]\n",
      " [1.]]\n"
     ]
    }
   ],
   "source": [
    "b = np.array([[9],[17],[5]])\n",
    "\n",
    "c = np.array([[-5.5,2.5,2],[3.5,-1.5,-1],[5,-2,-2]])\n",
    "\n",
    "print(c@b)"
   ]
  },
  {
   "cell_type": "markdown",
   "metadata": {},
   "source": [
    "kiri jadikan identitas di kanan ngikut\n",
    "\n",
    "definisi\n",
    "teori tentang invers matriks\n",
    "sifat sifat matriks\n",
    "mencari matriks invers dengan eliminasi gauss jordan \n",
    "penuelesaian sistem persamaan linear menggunakan matriks invers\n",
    "membiat soal 6 persamaan enam variabel cari solusinya pakai invers matriks"
   ]
  },
  {
   "cell_type": "code",
   "execution_count": null,
   "metadata": {},
   "outputs": [
    {
     "name": "stdout",
     "output_type": "stream",
     "text": [
      "[[ 2  2  1  1  0  0]\n",
      " [ 4  2  3  0  1  0]\n",
      " [ 1  3 -1  0  0  1]]\n"
     ]
    }
   ],
   "source": [
    "a = np.array([[2,2,1,1,0,0],[4,2,3,0,1,0],[1,3,-1,0,0,1]])\n",
    "print(a)"
   ]
  },
  {
   "cell_type": "code",
   "execution_count": null,
   "metadata": {},
   "outputs": [
    {
     "name": "stdout",
     "output_type": "stream",
     "text": [
      "[[ 2.  2.  1.  1.  0.  0.]\n",
      " [ 0. -2.  1. -2.  1.  0.]\n",
      " [ 1.  3. -1.  0.  0.  1.]]\n"
     ]
    }
   ],
   "source": [
    "b = RowAdd(a,0,1,-2)\n",
    "print(b)"
   ]
  },
  {
   "cell_type": "code",
   "execution_count": null,
   "metadata": {},
   "outputs": [
    {
     "name": "stdout",
     "output_type": "stream",
     "text": [
      "[[ 2.   2.   1.   1.   0.   0. ]\n",
      " [ 0.  -2.   1.  -2.   1.   0. ]\n",
      " [ 0.   2.  -1.5 -0.5  0.   1. ]]\n"
     ]
    }
   ],
   "source": [
    "c = RowAdd(b,0,2,-1/2)\n",
    "print(c)"
   ]
  },
  {
   "cell_type": "code",
   "execution_count": null,
   "metadata": {},
   "outputs": [
    {
     "name": "stdout",
     "output_type": "stream",
     "text": [
      "[[ 1.   1.   0.5  0.5  0.   0. ]\n",
      " [ 0.  -2.   1.  -2.   1.   0. ]\n",
      " [ 0.   2.  -1.5 -0.5  0.   1. ]]\n"
     ]
    }
   ],
   "source": [
    "d = RowScale(c,0,1/2)\n",
    "print(d)"
   ]
  },
  {
   "cell_type": "code",
   "execution_count": null,
   "metadata": {},
   "outputs": [
    {
     "name": "stdout",
     "output_type": "stream",
     "text": [
      "[[ 1.   1.   0.5  0.5  0.   0. ]\n",
      " [-0.   1.  -0.5  1.  -0.5 -0. ]\n",
      " [ 0.   2.  -1.5 -0.5  0.   1. ]]\n"
     ]
    }
   ],
   "source": [
    "e = RowScale(d,1,-1/2)\n",
    "print(e)"
   ]
  },
  {
   "cell_type": "code",
   "execution_count": null,
   "metadata": {},
   "outputs": [
    {
     "name": "stdout",
     "output_type": "stream",
     "text": [
      "[[ 1.   1.   0.5  0.5  0.   0. ]\n",
      " [-0.   1.  -0.5  1.  -0.5 -0. ]\n",
      " [ 0.   0.  -0.5 -2.5  1.   1. ]]\n"
     ]
    }
   ],
   "source": [
    "f = RowAdd(e,1,2,-2)\n",
    "print(f)"
   ]
  },
  {
   "cell_type": "code",
   "execution_count": 28,
   "metadata": {},
   "outputs": [
    {
     "name": "stdout",
     "output_type": "stream",
     "text": [
      "[[ 1.   1.   0.5  0.5  0.   0. ]\n",
      " [-0.   1.   0.   3.5 -1.5 -1. ]\n",
      " [ 0.   0.  -0.5 -2.5  1.   1. ]]\n"
     ]
    }
   ],
   "source": [
    "g = RowAdd(f,2,1,-1)\n",
    "print(g)"
   ]
  },
  {
   "cell_type": "code",
   "execution_count": 29,
   "metadata": {},
   "outputs": [
    {
     "name": "stdout",
     "output_type": "stream",
     "text": [
      "[[ 1.   1.   0.  -2.   1.   1. ]\n",
      " [-0.   1.   0.   3.5 -1.5 -1. ]\n",
      " [ 0.   0.  -0.5 -2.5  1.   1. ]]\n"
     ]
    }
   ],
   "source": [
    "h = RowAdd(g,2,0,1)\n",
    "print(h)"
   ]
  },
  {
   "cell_type": "code",
   "execution_count": 30,
   "metadata": {},
   "outputs": [
    {
     "name": "stdout",
     "output_type": "stream",
     "text": [
      "[[ 1.   0.   0.  -5.5  2.5  2. ]\n",
      " [-0.   1.   0.   3.5 -1.5 -1. ]\n",
      " [ 0.   0.  -0.5 -2.5  1.   1. ]]\n"
     ]
    }
   ],
   "source": [
    "i = RowAdd(h,1,0,-1)\n",
    "print(i)"
   ]
  },
  {
   "cell_type": "code",
   "execution_count": 32,
   "metadata": {},
   "outputs": [
    {
     "name": "stdout",
     "output_type": "stream",
     "text": [
      "[[ 1.   0.   0.  -5.5  2.5  2. ]\n",
      " [-0.   1.   0.   3.5 -1.5 -1. ]\n",
      " [-0.  -0.   1.   5.  -2.  -2. ]]\n"
     ]
    }
   ],
   "source": [
    "j = RowScale(i,2,-2)\n",
    "print(j)"
   ]
  },
  {
   "cell_type": "code",
   "execution_count": 31,
   "metadata": {},
   "outputs": [
    {
     "name": "stdout",
     "output_type": "stream",
     "text": [
      "[[3.]\n",
      " [1.]\n",
      " [1.]]\n"
     ]
    }
   ],
   "source": [
    "b = np.array([[9],[17],[5]])\n",
    "c = np.array([[-5.5,2.5,2],[3.5,-1.5,-1],[5,-2,-2]])\n",
    "print(c@b)"
   ]
  }
 ],
 "metadata": {
  "kernelspec": {
   "display_name": "Python 3",
   "language": "python",
   "name": "python3"
  },
  "language_info": {
   "codemirror_mode": {
    "name": "ipython",
    "version": 3
   },
   "file_extension": ".py",
   "mimetype": "text/x-python",
   "name": "python",
   "nbconvert_exporter": "python",
   "pygments_lexer": "ipython3",
   "version": "3.10.13"
  }
 },
 "nbformat": 4,
 "nbformat_minor": 2
}
