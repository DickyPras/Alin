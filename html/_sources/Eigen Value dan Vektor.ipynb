{
 "cells": [
  {
   "cell_type": "markdown",
   "metadata": {},
   "source": [
    "# Eigen Value dan Eigen Vektor\n",
    "\n",
    "## Konsep \n",
    "\n",
    "Eigenvalues (nilai eigen) dan eigenvectors (vektor eigen) adalah konsep yang penting dalam teori matriks dan aljabar linier. Mereka terkait dengan transformasi linear dan matriks, dan memberikan informasi penting tentang sifat-sifat dasar dari matriks.\n",
    "\n",
    "Eigenvalues bisa berupa bilangan real atau kompleks tergantung pada sifat matriks. Jika sebuah matriks memiliki bilangan kompleks sebagai eigenvalues, maka akan ada pasangan eigenvectors kompleks konjugat yang sesuai. \n"
   ]
  },
  {
   "cell_type": "markdown",
   "metadata": {},
   "source": [
    "## Contoh hitung EigenValue dan EigenVektor\n",
    "\n",
    "### Matrik 2 x 2\n",
    "\n",
    "$$\n",
    "A\\=(42​13​)\n",
    "$$\n",
    "\n",
    "Untuk menemukan eigenvalue, kita cari λ yang memenuhi:\n",
    "\n",
    "$$\n",
    "det(4−λ2 ​13−λ​)\\ =0\n",
    "$$\n",
    "\n",
    "Menghitung determinan, kita dapatkan:\n",
    "\n",
    "$$\n",
    "(4−λ)(3−λ)−2⋅1\\=λ2−7λ+10\\ =0\n",
    "$$\n",
    "\n",
    "Dengan menyelesaikan persamaan kuadrat ini, kita dapatkan dua eigenvalue:\n",
    "\n",
    "$$\n",
    "λ1​\\=5, λ2​\\ =2\n",
    "$$"
   ]
  },
  {
   "cell_type": "code",
   "execution_count": 1,
   "metadata": {},
   "outputs": [
    {
     "name": "stdout",
     "output_type": "stream",
     "text": [
      "Eigenvalue:\n",
      "[5. 2.]\n",
      "Eigenvektor:\n",
      "[[ 0.70710678 -0.4472136 ]\n",
      " [ 0.70710678  0.89442719]]\n"
     ]
    }
   ],
   "source": [
    "import numpy as np\n",
    "\n",
    "# Definisikan matriks A\n",
    "A = np.array([[4, 1],\n",
    "              [2, 3]])\n",
    "\n",
    "# Hitung eigenvalue dan eigenvektor\n",
    "eigenvalues, eigenvectors = np.linalg.eig(A)\n",
    "\n",
    "# Cetak eigenvalue\n",
    "print(\"Eigenvalue:\")\n",
    "print(eigenvalues)\n",
    "\n",
    "# Cetak eigenvektor\n",
    "print(\"Eigenvektor:\")\n",
    "print(eigenvectors)\n"
   ]
  },
  {
   "cell_type": "code",
   "execution_count": 1,
   "metadata": {},
   "outputs": [
    {
     "name": "stdout",
     "output_type": "stream",
     "text": [
      "Eigenvalue:\n",
      "[5.86619826 1.34455762 2.78924412]\n",
      "Eigenvektor:\n",
      "[[ 0.76515114  0.41033692  0.4235206 ]\n",
      " [ 0.21209739  0.47151899 -0.88641397]\n",
      " [ 0.60791317 -0.78057252  0.18681696]]\n"
     ]
    }
   ],
   "source": [
    "import numpy as np\n",
    "\n",
    "# Definisikan matriks A (3x3)\n",
    "A = np.array([[4, 1, 2],\n",
    "              [0, 3, 1],\n",
    "              [2, 1, 3]])\n",
    "\n",
    "# Hitung eigenvalue dan eigenvektor\n",
    "eigenvalues, eigenvectors = np.linalg.eig(A)\n",
    "\n",
    "# Cetak eigenvalue\n",
    "print(\"Eigenvalue:\")\n",
    "print(eigenvalues)\n",
    "\n",
    "# Cetak eigenvektor\n",
    "print(\"Eigenvektor:\")\n",
    "print(eigenvectors)\n"
   ]
  },
  {
   "cell_type": "markdown",
   "metadata": {},
   "source": [
    "### cara menemukan EiganVektor\n",
    "\n",
    "Untuk menemukan eigenvektor, kita harus terlebih dahulu menemukan eigenvalue dari matriks \n",
    "𝐴. Setelah eigenvalue ditemukan, eigenvektor dapat ditentukan dengan menyelesaikan sistem persamaan linear berikut:\n",
    "\n",
    "$$\n",
    "(A−λI)v\\=0\n",
    "$$\n",
    "\n",
    "Di mana \n",
    "𝐼\n",
    "I adalah matriks identitas. Sistem persamaan ini dapat diselesaikan untuk menemukan vektor 𝑣.\n",
    "\n",
    "Contoh :\n",
    "Seperti yang kita temukan sebelumnya, eigenvalue \n",
    "λ dari \n",
    "A adalah 5 dan 2. Untuk mencari eigenvektor yang sesuai dengan masing-masing eigenvalue, kita substitusikan \n",
    "λ ke dalam persamaan $$ (A−λI)v\\=0. $$\n",
    "\n",
    "Untuk $ λ\\=5: $\n",
    "\n",
    "$$\n",
    "(A−5I)v\\=(4−52​13−5​)(v1​v2​​)\\=(−12​1−2​)(v1​v2​​)\\=(00​)\n",
    "$$\n",
    "\n",
    "Persamaan ini menghasilkan sistem linear:\n",
    "\n",
    "$$\n",
    "−v1​+v2​\\=02v1​−2v2​\\=0​\n",
    "$$\n",
    "\n",
    "Yang berarti v1 = v2. Jadi Eigenvektor yang sesuai $ λ\\=5 $ adalah\n",
    "\n",
    "$$\n",
    "v1​\\=k(11​)untuk sembarang k\\=0\n",
    "$$\n",
    "\n",
    "Untuk $λ\\=2$\n",
    "$$\n",
    "(A−2I)v\\=(4−22​13−2​)(v1​v2​​)\\=(22​11​)(v1​v2​​)\\=(00​)\n",
    "$$\n",
    "\n",
    "Persamaan ini menghasilkan sistem linear:\n",
    "\n",
    "$$\n",
    "2v1​+v2​\\=02v1​+v2​\\=0​\n",
    "$$\n",
    "\n",
    "Yang berarti $$v2\\=−2v1v\\_2 = -2v\\_1v2​\\=−2v1​. Jadi, eigenvektor yang sesuai dengan λ\\=2 $$ adalah\n",
    "\n",
    "$$\n",
    "v2​\\=k(1−2​)untuk sembarang k\\=0\n",
    "$$"
   ]
  },
  {
   "cell_type": "code",
   "execution_count": 2,
   "metadata": {},
   "outputs": [
    {
     "name": "stdout",
     "output_type": "stream",
     "text": [
      "Eigenvalue:\n",
      "[5. 2.]\n",
      "Eigenvektor:\n",
      "[[ 0.70710678 -0.4472136 ]\n",
      " [ 0.70710678  0.89442719]]\n"
     ]
    }
   ],
   "source": [
    "import numpy as np\n",
    "\n",
    "# Definisikan matriks A\n",
    "A = np.array([[4, 1],\n",
    "              [2, 3]])\n",
    "\n",
    "# Hitung eigenvalue dan eigenvektor\n",
    "eigenvalues, eigenvectors = np.linalg.eig(A)\n",
    "\n",
    "# Cetak eigenvalue\n",
    "print(\"Eigenvalue:\")\n",
    "print(eigenvalues)\n",
    "\n",
    "# Cetak eigenvektor\n",
    "print(\"Eigenvektor:\")\n",
    "print(eigenvectors)\n"
   ]
  },
  {
   "cell_type": "markdown",
   "metadata": {},
   "source": [
    "contoh 3 x 3\n"
   ]
  },
  {
   "cell_type": "code",
   "execution_count": 4,
   "metadata": {},
   "outputs": [
    {
     "name": "stdout",
     "output_type": "stream",
     "text": [
      "Eigenvalue:\n",
      "[6.38417273+0.j         1.80791363+0.80460079j 1.80791363-0.80460079j]\n",
      "Eigenvektor:\n",
      "[[ 0.66145094+0.j         -0.39996437-0.35287656j -0.39996437+0.35287656j]\n",
      " [ 0.54359285+0.j         -0.20787801+0.45172424j -0.20787801-0.45172424j]\n",
      " [ 0.51671023+0.j          0.68427961+0.j          0.68427961-0.j        ]]\n"
     ]
    }
   ],
   "source": [
    "import numpy as np\n",
    "\n",
    "# Definisikan matriks A\n",
    "A = np.array([[4, 1, 2],\n",
    "              [2, 3, 1],\n",
    "              [1, 2, 3]])\n",
    "\n",
    "# Hitung eigenvalue dan eigenvektor\n",
    "eigenvalues, eigenvectors = np.linalg.eig(A)\n",
    "\n",
    "# Cetak eigenvalue\n",
    "print(\"Eigenvalue:\")\n",
    "print(eigenvalues)\n",
    "\n",
    "# Cetak eigenvektor\n",
    "print(\"Eigenvektor:\")\n",
    "print(eigenvectors)\n"
   ]
  },
  {
   "cell_type": "markdown",
   "metadata": {},
   "source": [
    "Ref : Laily Sabrina Hapsari\n",
    "https://rpubs.com/bokuwalily/1051528"
   ]
  }
 ],
 "metadata": {
  "kernelspec": {
   "display_name": "Python 3",
   "language": "python",
   "name": "python3"
  },
  "language_info": {
   "codemirror_mode": {
    "name": "ipython",
    "version": 3
   },
   "file_extension": ".py",
   "mimetype": "text/x-python",
   "name": "python",
   "nbconvert_exporter": "python",
   "pygments_lexer": "ipython3",
   "version": "3.10.13"
  }
 },
 "nbformat": 4,
 "nbformat_minor": 2
}
