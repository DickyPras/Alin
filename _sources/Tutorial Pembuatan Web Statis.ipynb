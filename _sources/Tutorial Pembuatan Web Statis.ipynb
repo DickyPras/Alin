{
 "cells": [
  {
   "cell_type": "markdown",
   "metadata": {},
   "source": [
    "# Tutorial Pembuatan Web Statis\n",
    "\n",
    "### Video Tutorial pembuatan Web Statis dengan template Jupyter-Book\n",
    "\n",
    "[Klik link berikut](https://youtu.be/oRqykMAQrQA?si=nPsNdIRbdbI6LGWi)"
   ]
  }
 ],
 "metadata": {
  "language_info": {
   "name": "python"
  }
 },
 "nbformat": 4,
 "nbformat_minor": 2
}
